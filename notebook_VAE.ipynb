{
 "cells": [
  {
   "cell_type": "code",
   "execution_count": null,
   "metadata": {},
   "outputs": [],
   "source": [
    "import os\n",
    "import numpy as np\n",
    "import pandas as pd\n",
    "from tqdm import tqdm\n",
    "import random\n",
    "from tensorflow.keras.optimizers import Adam\n",
    "from tensorflow.keras.callbacks import EarlyStopping, ModelCheckpoint\n",
    "from tensorflow.keras.preprocessing.sequence import pad_sequences\n",
    "from sklearn.utils import shuffle\n",
    "\n",
    "import plotly.graph_objects as go\n",
    "import plotly.express as px\n",
    "from plotly.subplots import make_subplots\n",
    "\n",
    "from target import TargetSet\n",
    "from image import ImageSetObject, show_image\n",
    "from model import VAE, loss_function, get_text_from_predict, score"
   ]
  },
  {
   "cell_type": "markdown",
   "metadata": {},
   "source": [
    "# Load .csv file"
   ]
  },
  {
   "cell_type": "code",
   "execution_count": null,
   "metadata": {},
   "outputs": [],
   "source": [
    "TargetBMS = TargetSet()"
   ]
  },
  {
   "cell_type": "code",
   "execution_count": null,
   "metadata": {},
   "outputs": [],
   "source": [
    "# Choice of the target\n",
    "df_targets = TargetBMS.targets['target_A']"
   ]
  },
  {
   "cell_type": "code",
   "execution_count": null,
   "metadata": {},
   "outputs": [],
   "source": [
    "# Text processing\n",
    "text = ''.join(df_targets.values)\n",
    "\n",
    "# Vocab\n",
    "vocab = [' '] + sorted(set(text))\n",
    "vocab_size = len(vocab)\n",
    "\n",
    "# Mapping\n",
    "char2idx = {u:i for i, u in enumerate(vocab)}\n",
    "idx2char = np.array(vocab)\n",
    "\n",
    "# Max length\n",
    "max_len = max([len(x) for x in df_targets])"
   ]
  },
  {
   "cell_type": "markdown",
   "metadata": {},
   "source": [
    "# Load image data, create features from VAE"
   ]
  },
  {
   "cell_type": "code",
   "execution_count": null,
   "metadata": {},
   "outputs": [],
   "source": [
    "# Folders\n",
    "folders = '0123456789abcdef'\n",
    "\n",
    "# Random seed\n",
    "random_state=0\n",
    "\n",
    "# Parameters\n",
    "lr=1e-3\n",
    "name=f'BMS_VAE'\n",
    "new_shape=[128, 128]\n",
    "latent_dim=64\n",
    "\n",
    "# Optimizer\n",
    "optimizer = Adam(learning_rate=lr)"
   ]
  },
  {
   "cell_type": "code",
   "execution_count": null,
   "metadata": {},
   "outputs": [],
   "source": [
    "# VAE Model\n",
    "input_shape = [None, new_shape[0], new_shape[1], 1]\n",
    "model = VAE(name, latent_dim, input_shape)\n",
    "model.load_model(batch_size=None)"
   ]
  },
  {
   "cell_type": "code",
   "execution_count": null,
   "metadata": {},
   "outputs": [],
   "source": [
    "# Images data \n",
    "dataset = 'train'\n",
    "i = folders[0]\n",
    "j = folders[0]\n",
    "\n",
    "list_data = []\n",
    "list_data_z = []\n",
    "list_targets = []\n",
    "\n",
    "for k in tqdm(folders[0:1]):\n",
    "\n",
    "    path = f'bms-molecular-translation/{dataset}/{i}/{j}/{k}/'\n",
    "\n",
    "    # Files\n",
    "    list_names = os.listdir(path)\n",
    "    list_path = [path]*len(list_names)\n",
    "\n",
    "    # Image data\n",
    "    ImageSet = ImageSetObject(list_names, list_path)\n",
    "    ImageSet.prepare_data(new_shape, filtering=False, adjust=True)\n",
    "    data = ImageSet.X\n",
    "    list_data.append(data)\n",
    "    \n",
    "    Z, _ = model.encode(data)\n",
    "    list_data_z.append(Z)\n",
    "    \n",
    "#     # Text targets\n",
    "#     list_id = [x.split('.')[0] for x in ImageSet.list_names]\n",
    "#     targets = df_targets[list_id].values\n",
    "#     targets = [[char2idx[x] for x in target] for target in targets]\n",
    "#     targets = pad_sequences(targets, padding='post', maxlen=max_len)\n",
    "#     list_targets.append(targets)"
   ]
  },
  {
   "cell_type": "code",
   "execution_count": null,
   "metadata": {},
   "outputs": [],
   "source": [
    "k = 0\n",
    "data = list_data[k]\n",
    "data_decoded = model.decode(list_data_z[k])"
   ]
  },
  {
   "cell_type": "code",
   "execution_count": null,
   "metadata": {},
   "outputs": [],
   "source": [
    "# Show\n",
    "n = 5\n",
    "fig = make_subplots(rows=2, cols=n)\n",
    "for i in range(n):\n",
    "    fig.add_trace(show_image(data[i, :, :, 0]).data[0], row = 1, col = i+1)\n",
    "    fig.add_trace(show_image(data_decoded[i, :, :, 0]).data[0], row = 2, col = i+1)\n",
    "fig.update_layout(\n",
    "    coloraxis_showscale=False, \n",
    "    margin={\"l\": 0, \"r\": 0, \"t\": 0, \"b\": 0}\n",
    ")\n",
    "fig.update_xaxes(showticklabels=False)\n",
    "fig.update_yaxes(showticklabels=False)"
   ]
  },
  {
   "cell_type": "markdown",
   "metadata": {},
   "source": [
    "# Train predictive model"
   ]
  },
  {
   "cell_type": "code",
   "execution_count": null,
   "metadata": {},
   "outputs": [],
   "source": [
    "import plotly.graph_objects as go\n",
    "from tensorflow.keras import Sequential\n",
    "from tensorflow.keras.layers import InputLayer, Dense, Reshape, Conv1DTranspose, LSTM, RepeatVector, Dropout\n",
    "\n",
    "def get_model_predict_after_vae(max_len, vocab, latent_dim):\n",
    "    model = Sequential(\n",
    "        [\n",
    "            InputLayer((latent_dim)),\n",
    "            Dense(256, activation='relu'),\n",
    "            Dropout(0.5),\n",
    "            Dense(max_len*len(vocab), activation='relu'),\n",
    "            Dropout(0.5),\n",
    "            Reshape((max_len, len(vocab))),\n",
    "            Dense(len(vocab), activation='softmax')\n",
    "        ]\n",
    "    )\n",
    "    model.build()\n",
    "    return model\n",
    "\n",
    "def plot_history(history):\n",
    "    '''Plot the train and test loss function for each epoch'''\n",
    "    fig = go.Figure()\n",
    "    fig.add_trace(go.Scatter(y=history.history['loss'], name='training loss'))\n",
    "    fig.add_trace(go.Scatter(y=history.history['val_loss'], name='validation loss'))\n",
    "\n",
    "    fig.update_layout(\n",
    "        xaxis_title=\"Epochs\",\n",
    "        yaxis_title=\"Loss\",\n",
    "        title=\"Training history\"\n",
    "    )\n",
    "    return fig"
   ]
  },
  {
   "cell_type": "code",
   "execution_count": null,
   "metadata": {},
   "outputs": [],
   "source": [
    "# Data\n",
    "data_z = np.concatenate(list_data_z)\n",
    "\n",
    "# Targets\n",
    "targets = np.concatenate(list_targets)"
   ]
  },
  {
   "cell_type": "code",
   "execution_count": null,
   "metadata": {},
   "outputs": [],
   "source": [
    "# Train\n",
    "epochs=1000\n",
    "batch_size=64\n",
    "patience=10\n",
    "name=f'gsk_VAE_predictive'"
   ]
  },
  {
   "cell_type": "code",
   "execution_count": null,
   "metadata": {},
   "outputs": [],
   "source": [
    "# Split train/test\n",
    "data_z, targets = shuffle(data_z, targets, random_state=0)\n",
    "\n",
    "TRAIN_BUF = int(data_z.shape[0]*0.8)\n",
    "data_train = data_z[:TRAIN_BUF]\n",
    "data_validation = data_z[TRAIN_BUF:]\n",
    "\n",
    "targets_train = targets[:TRAIN_BUF]\n",
    "targets_validation = targets[TRAIN_BUF:]"
   ]
  },
  {
   "cell_type": "code",
   "execution_count": null,
   "metadata": {},
   "outputs": [],
   "source": [
    "predictive_model = get_model_predict_after_vae(max_len, vocab, latent_dim)"
   ]
  },
  {
   "cell_type": "code",
   "execution_count": null,
   "metadata": {},
   "outputs": [],
   "source": [
    "# Callbacks and compil\n",
    "es = EarlyStopping(monitor='val_loss', mode='min', verbose=1, patience=patience)\n",
    "mc = ModelCheckpoint(f'outputs/{name}.h5', monitor='val_loss', mode='min', verbose=1, save_best_only=True)\n",
    "\n",
    "optimizer = Adam(learning_rate=lr)\n",
    "predictive_model.compile(optimizer=optimizer, loss=loss_function)\n",
    "predictive_model.summary()"
   ]
  },
  {
   "cell_type": "code",
   "execution_count": null,
   "metadata": {
    "scrolled": false
   },
   "outputs": [],
   "source": [
    "history = predictive_model.fit(\n",
    "    data_train, \n",
    "    targets_train, \n",
    "    validation_data = (data_validation, targets_validation), \n",
    "    epochs=epochs, \n",
    "    batch_size=batch_size, \n",
    "    verbose=0,\n",
    "    callbacks=[es, mc]\n",
    ")"
   ]
  },
  {
   "cell_type": "code",
   "execution_count": null,
   "metadata": {},
   "outputs": [],
   "source": [
    "plot_history(history)"
   ]
  },
  {
   "cell_type": "code",
   "execution_count": null,
   "metadata": {},
   "outputs": [],
   "source": [
    "# Train Score \n",
    "y_true=[''.join([idx2char[y] for y in yy]) for yy in targets_train[0:batch_size]]\n",
    "y_predict=get_text_from_predict(predictive_model, data_train[0:batch_size], idx2char)\n",
    "print(f\"\\t> Train Score: {score(y_true, y_predict)}\")\n",
    "\n",
    "# Validation score \n",
    "y_true=[''.join([idx2char[y] for y in yy]) for yy in targets_validation[0:batch_size]]\n",
    "y_predict=get_text_from_predict(predictive_model, data_validation[0:batch_size], idx2char)\n",
    "print(f\"\\t> Validation Score: {score(y_true, y_predict)}\")"
   ]
  },
  {
   "cell_type": "code",
   "execution_count": null,
   "metadata": {},
   "outputs": [],
   "source": [
    "y_true[20]"
   ]
  },
  {
   "cell_type": "code",
   "execution_count": null,
   "metadata": {},
   "outputs": [],
   "source": [
    "y_predict"
   ]
  },
  {
   "cell_type": "code",
   "execution_count": null,
   "metadata": {},
   "outputs": [],
   "source": []
  }
 ],
 "metadata": {
  "kernelspec": {
   "display_name": "Python 3",
   "language": "python",
   "name": "python3"
  },
  "language_info": {
   "codemirror_mode": {
    "name": "ipython",
    "version": 3
   },
   "file_extension": ".py",
   "mimetype": "text/x-python",
   "name": "python",
   "nbconvert_exporter": "python",
   "pygments_lexer": "ipython3",
   "version": "3.7.9"
  }
 },
 "nbformat": 4,
 "nbformat_minor": 2
}
