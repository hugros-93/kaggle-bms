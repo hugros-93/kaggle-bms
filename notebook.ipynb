{
 "cells": [
  {
   "cell_type": "code",
   "execution_count": null,
   "metadata": {},
   "outputs": [],
   "source": [
    "import os\n",
    "import numpy as np\n",
    "import pandas as pd\n",
    "from image import ImageObject, ImageSetObject, show_image\n",
    "\n",
    "from sklearn.utils import shuffle\n",
    "from tensorflow.keras.preprocessing.sequence import pad_sequences\n",
    "from tensorflow.keras.optimizers import Adam\n",
    "from tensorflow.keras.callbacks import EarlyStopping, ModelCheckpoint"
   ]
  },
  {
   "cell_type": "code",
   "execution_count": null,
   "metadata": {},
   "outputs": [],
   "source": [
    "# train labels\n",
    "train_labels = pd.read_csv(\"bms-molecular-translation/train_labels.csv\")\n",
    "train_labels['InChI'] = train_labels['InChI'].apply(lambda x: x.replace('InChI=', ''))\n",
    "train_labels = train_labels.set_index(\"image_id\")\n",
    "print(f\"Size training set: {len(train_labels)}\")"
   ]
  },
  {
   "cell_type": "code",
   "execution_count": null,
   "metadata": {},
   "outputs": [],
   "source": [
    "# sample_submission\n",
    "sample_submission = pd.read_csv(\"bms-molecular-translation/sample_submission.csv\")"
   ]
  },
  {
   "cell_type": "code",
   "execution_count": null,
   "metadata": {},
   "outputs": [],
   "source": [
    "path = 'bms-molecular-translation/train/0/0/0/'\n",
    "list_names = os.listdir(path)\n",
    "\n",
    "# sample\n",
    "list_names = list_names[:16]\n",
    "list_paths = [path for _ in list_names]"
   ]
  },
  {
   "cell_type": "code",
   "execution_count": null,
   "metadata": {},
   "outputs": [],
   "source": [
    "ImageSet = ImageSetObject(list_names, list_paths)\n",
    "ImageSet.load_set()\n",
    "ImageSet.resize_images()\n",
    "ImageSet.list_targets = list(train_labels.loc[ImageSet.image_ids, 'InChI'])"
   ]
  },
  {
   "cell_type": "code",
   "execution_count": null,
   "metadata": {},
   "outputs": [],
   "source": [
    "data = ImageSet.array.reshape((ImageSet.shape[0], ImageSet.shape[1], ImageSet.shape[2], 1))"
   ]
  },
  {
   "cell_type": "code",
   "execution_count": null,
   "metadata": {},
   "outputs": [],
   "source": [
    "del train_labels"
   ]
  },
  {
   "cell_type": "code",
   "execution_count": null,
   "metadata": {},
   "outputs": [],
   "source": []
  },
  {
   "cell_type": "code",
   "execution_count": null,
   "metadata": {},
   "outputs": [],
   "source": []
  },
  {
   "cell_type": "code",
   "execution_count": null,
   "metadata": {},
   "outputs": [],
   "source": [
    "# Text processing\n",
    "text = ''.join(ImageSet.list_targets)\n",
    "\n",
    "# Vocab\n",
    "vocab = [' '] + sorted(set(text))\n",
    "vocab_size = len(vocab)\n",
    "\n",
    "# Mapping\n",
    "char2idx = {u:i for i, u in enumerate(vocab)}\n",
    "idx2char = np.array(vocab)"
   ]
  },
  {
   "cell_type": "code",
   "execution_count": null,
   "metadata": {},
   "outputs": [],
   "source": [
    "# Targets\n",
    "targets = [[char2idx[x] for x in target] for target in ImageSet.list_targets]\n",
    "targets = pad_sequences(targets, padding='post')\n",
    "max_len = max([len(x) for x in targets])"
   ]
  },
  {
   "cell_type": "code",
   "execution_count": null,
   "metadata": {},
   "outputs": [],
   "source": []
  },
  {
   "cell_type": "code",
   "execution_count": null,
   "metadata": {},
   "outputs": [],
   "source": []
  },
  {
   "cell_type": "code",
   "execution_count": null,
   "metadata": {},
   "outputs": [],
   "source": []
  },
  {
   "cell_type": "code",
   "execution_count": null,
   "metadata": {},
   "outputs": [],
   "source": [
    "from model import loss_function, plot_history\n",
    "from tensorflow.keras import Sequential\n",
    "from tensorflow.keras.layers import (\n",
    "    InputLayer,\n",
    "    Dense,\n",
    "    Flatten,\n",
    "    Reshape,\n",
    "    RepeatVector,\n",
    "    Conv2D,\n",
    "    MaxPool2D,\n",
    "    GRU,\n",
    "    BatchNormalization\n",
    ")\n",
    "\n",
    "\n",
    "\n",
    "def get_model(image_data_shape, max_len, vocab, filters=4, latent_dim=8):\n",
    "        model = Sequential(\n",
    "            [\n",
    "                InputLayer(input_shape=image_data_shape[1:]),\n",
    "                Conv2D(filters=filters, kernel_size=3,\n",
    "                       strides=(2, 2), activation='tanh'),\n",
    "                BatchNormalization(),\n",
    "                MaxPool2D(),\n",
    "                Conv2D(filters=filters, kernel_size=3,\n",
    "                       strides=(2, 2), activation='tanh'),\n",
    "                MaxPool2D(),\n",
    "                Conv2D(filters=filters, kernel_size=3,\n",
    "                       strides=(2, 2), activation='tanh'),\n",
    "                MaxPool2D(),\n",
    "                Flatten(),\n",
    "                Dense(latent_dim),\n",
    "                RepeatVector(max_len),\n",
    "                GRU(len(vocab), return_sequences=True,)\n",
    "            ]\n",
    "        )\n",
    "        model.summary()\n",
    "        return model\n"
   ]
  },
  {
   "cell_type": "code",
   "execution_count": null,
   "metadata": {},
   "outputs": [],
   "source": []
  },
  {
   "cell_type": "code",
   "execution_count": null,
   "metadata": {},
   "outputs": [],
   "source": [
    "# Random seed\n",
    "random_state=0"
   ]
  },
  {
   "cell_type": "code",
   "execution_count": null,
   "metadata": {},
   "outputs": [],
   "source": [
    "# Parameters\n",
    "batch_size = 1\n",
    "\n",
    "epochs = 1000\n",
    "patience = 10\n",
    "lr=1e-3"
   ]
  },
  {
   "cell_type": "code",
   "execution_count": null,
   "metadata": {},
   "outputs": [],
   "source": [
    "# Split train/test\n",
    "TRAIN_BUF = int(data.shape[0]*0.8) - (int(data.shape[0]*0.8) % batch_size)\n",
    "TEST_BUF = int(data.shape[0]*0.2) - (int(data.shape[0]*0.2) % batch_size)\n",
    "\n",
    "data_train = data[:TRAIN_BUF]\n",
    "data_validation = data[TRAIN_BUF:TRAIN_BUF+TEST_BUF]\n",
    "targets_train = targets[:TRAIN_BUF]\n",
    "targets_validation = targets[TRAIN_BUF:TRAIN_BUF+TEST_BUF]"
   ]
  },
  {
   "cell_type": "code",
   "execution_count": null,
   "metadata": {},
   "outputs": [],
   "source": [
    "# Create tf model\n",
    "model = get_model(data.shape, max_len, vocab, filters=4, latent_dim=8)\n",
    "name=f'gsk'"
   ]
  },
  {
   "cell_type": "code",
   "execution_count": null,
   "metadata": {},
   "outputs": [],
   "source": [
    "# Callbacks and compil\n",
    "es = EarlyStopping(monitor='val_loss', mode='min', verbose=1, patience=patience)\n",
    "mc = ModelCheckpoint(f'outputs/{name}.h5', monitor='val_loss', mode='min', verbose=1, save_best_only=True)\n",
    "\n",
    "optimizer = Adam(learning_rate=lr)\n",
    "model.compile(optimizer=optimizer, loss=loss_function)"
   ]
  },
  {
   "cell_type": "code",
   "execution_count": null,
   "metadata": {},
   "outputs": [],
   "source": [
    "# Train\n",
    "history = model.fit(data_train, targets_train, \n",
    "              validation_data = (data_validation, targets_validation), \n",
    "              epochs=epochs, \n",
    "              batch_size=batch_size, \n",
    "              verbose=0,\n",
    "              callbacks=[es, mc])"
   ]
  },
  {
   "cell_type": "code",
   "execution_count": null,
   "metadata": {},
   "outputs": [],
   "source": [
    "# Plot history\n",
    "plot_history(history)"
   ]
  }
 ],
 "metadata": {
  "kernelspec": {
   "display_name": "Python 3",
   "language": "python",
   "name": "python3"
  },
  "language_info": {
   "codemirror_mode": {
    "name": "ipython",
    "version": 3
   },
   "file_extension": ".py",
   "mimetype": "text/x-python",
   "name": "python",
   "nbconvert_exporter": "python",
   "pygments_lexer": "ipython3",
   "version": "3.7.9-final"
  }
 },
 "nbformat": 4,
 "nbformat_minor": 2
}