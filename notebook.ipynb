{
 "cells": [
  {
   "cell_type": "code",
   "execution_count": null,
   "metadata": {},
   "outputs": [],
   "source": [
    "import os\n",
    "import numpy as np\n",
    "import pandas as pd\n",
    "from image import ImageObject, ImageSetObject, show_image"
   ]
  },
  {
   "cell_type": "code",
   "execution_count": null,
   "metadata": {},
   "outputs": [],
   "source": [
    "# train labels\n",
    "train_labels = pd.read_csv(\"bms-molecular-translation/train_labels.csv\")\n",
    "train_labels['InChI'] = train_labels['InChI'].apply(lambda x: x.replace('InChI=', ''))\n",
    "train_labels = train_labels.set_index(\"image_id\")\n",
    "print(f\"Size training set: {len(train_labels)}\")"
   ]
  },
  {
   "cell_type": "code",
   "execution_count": null,
   "metadata": {},
   "outputs": [],
   "source": [
    "# sample_submission\n",
    "sample_submission = pd.read_csv(\"bms-molecular-translation/sample_submission.csv\")"
   ]
  },
  {
   "cell_type": "code",
   "execution_count": null,
   "metadata": {},
   "outputs": [],
   "source": [
    "path = 'bms-molecular-translation/train/0/0/0/'\n",
    "list_names = os.listdir(path)\n",
    "\n",
    "# sample\n",
    "list_names = list_names[:16]\n",
    "\n",
    "list_paths = [path for _ in list_names]"
   ]
  },
  {
   "cell_type": "code",
   "execution_count": null,
   "metadata": {},
   "outputs": [],
   "source": [
    "ImageSet = ImageSetObject(list_names, list_paths)\n",
    "ImageSet.load_set()\n",
    "ImageSet.resize_images()\n",
    "ImageSet.list_targets = list(train_labels.loc[ImageSet.image_ids, 'InChI'])"
   ]
  },
  {
   "cell_type": "code",
   "execution_count": null,
   "metadata": {},
   "outputs": [],
   "source": [
    "# Text processing\n",
    "text = ''.join(ImageSet.list_targets)\n",
    "\n",
    "# Vocab\n",
    "vocab = sorted(set(text))\n",
    "vocab_size = len(vocab)\n",
    "\n",
    "# Mapping\n",
    "char2idx = {u:i for i, u in enumerate(vocab)}\n",
    "idx2char = np.array(vocab)"
   ]
  },
  {
   "cell_type": "code",
   "execution_count": null,
   "metadata": {},
   "outputs": [],
   "source": [
    "# Targets\n",
    "targets = [[[char2idx[x]] for x in target] for target in ImageSet.list_targets]"
   ]
  },
  {
   "cell_type": "code",
   "execution_count": null,
   "metadata": {},
   "outputs": [],
   "source": []
  },
  {
   "cell_type": "code",
   "execution_count": null,
   "metadata": {},
   "outputs": [],
   "source": []
  }
 ],
 "metadata": {
  "kernelspec": {
   "display_name": "Python 3",
   "language": "python",
   "name": "python3"
  },
  "language_info": {
   "codemirror_mode": {
    "name": "ipython",
    "version": 3
   },
   "file_extension": ".py",
   "mimetype": "text/x-python",
   "name": "python",
   "nbconvert_exporter": "python",
   "pygments_lexer": "ipython3",
   "version": "3.7.9"
  }
 },
 "nbformat": 4,
 "nbformat_minor": 2
}
