{
 "cells": [
  {
   "cell_type": "code",
   "execution_count": null,
   "metadata": {},
   "outputs": [],
   "source": [
    "import os\n",
    "import random\n",
    "import numpy as np\n",
    "import pandas as pd\n",
    "import tensorflow as tf\n",
    "from tqdm import tqdm\n",
    "\n",
    "from tensorflow.keras.optimizers import Adam\n",
    "from tensorflow.keras.callbacks import EarlyStopping, ModelCheckpoint\n",
    "from tensorflow.keras.preprocessing.sequence import pad_sequences\n",
    "from sklearn.utils import shuffle\n",
    "\n",
    "import plotly.graph_objects as go\n",
    "import plotly.express as px\n",
    "from plotly.subplots import make_subplots\n",
    "\n",
    "from target import TargetSet\n",
    "from image import ImageSetObject, show_image\n",
    "from model import get_predictive_network, loss_function, get_text_from_predict, score"
   ]
  },
  {
   "cell_type": "code",
   "execution_count": null,
   "metadata": {},
   "outputs": [],
   "source": [
    "# Folders\n",
    "folders = '0123456789abcdef'\n",
    "\n",
    "# Random seed\n",
    "random_state=0\n",
    "\n",
    "# Parameters\n",
    "new_shape=[256, 256]\n",
    "\n",
    "batch_size=128\n",
    "lr=1e-3\n",
    "optimizer = Adam(learning_rate=lr)"
   ]
  },
  {
   "cell_type": "markdown",
   "metadata": {},
   "source": [
    "# Load target file"
   ]
  },
  {
   "cell_type": "code",
   "execution_count": null,
   "metadata": {},
   "outputs": [],
   "source": [
    "TargetBMS = TargetSet()"
   ]
  },
  {
   "cell_type": "code",
   "execution_count": null,
   "metadata": {},
   "outputs": [],
   "source": [
    "dico_targets_shape = {}\n",
    "\n",
    "for name_target in ['target_A', 'target_B', 'target_C']:\n",
    "    df_targets = TargetBMS.targets[name_target]\n",
    "\n",
    "    # Text processing\n",
    "    text = ''.join(df_targets.values)\n",
    "\n",
    "    # Vocab\n",
    "    vocab = [' '] + sorted(set(text))\n",
    "    vocab_size = len(vocab)\n",
    "\n",
    "    # Mapping\n",
    "    char2idx = {u:i for i, u in enumerate(vocab)}\n",
    "    idx2char = np.array(vocab)\n",
    "\n",
    "    # Max length\n",
    "    max_len = max([len(x) for x in df_targets])\n",
    "    \n",
    "    print(f\"{name_target} > vocab_size={vocab_size} | max_len={max_len}\")\n",
    "    \n",
    "    dico_targets_shape[name_target] = {'vocab_size':vocab_size, 'max_len':max_len, 'idx2char':idx2char, 'char2idx':char2idx}"
   ]
  },
  {
   "cell_type": "markdown",
   "metadata": {},
   "source": [
    "# Training"
   ]
  },
  {
   "cell_type": "markdown",
   "metadata": {},
   "source": [
    "## Target A"
   ]
  },
  {
   "cell_type": "code",
   "execution_count": null,
   "metadata": {},
   "outputs": [],
   "source": [
    "name_target = 'target_A'\n",
    "\n",
    "# Target parameters    \n",
    "df_targets = TargetBMS.targets[name_target]\n",
    "max_len = dico_targets_shape[name_target]['max_len']\n",
    "vocab_size = dico_targets_shape[name_target]['vocab_size']\n",
    "char2idx = dico_targets_shape[name_target]['char2idx']\n",
    "idx2char = dico_targets_shape[name_target]['idx2char']\n",
    "\n",
    "# Create model\n",
    "name=f'BMS_predictive_end_to_end_{name_target}'\n",
    "\n",
    "predictive_network_A = get_predictive_network(max_len, vocab_size)\n",
    "predictive_network_A.build(input_shape=(None, new_shape[0], new_shape[1], 1))\n",
    "predictive_network_A.compile(optimizer=optimizer, loss=loss_function)\n",
    "predictive_network_A.summary()"
   ]
  },
  {
   "cell_type": "code",
   "execution_count": null,
   "metadata": {},
   "outputs": [],
   "source": [
    "# # Load model\n",
    "# predictive_network_A = tf.keras.models.load_model(f\"outputs/BMS_predictive_end_to_end_target_A\", compile=False)\n",
    "# predictive_network_A.compile(optimizer=optimizer, loss=loss_function)"
   ]
  },
  {
   "cell_type": "code",
   "execution_count": null,
   "metadata": {
    "scrolled": true
   },
   "outputs": [],
   "source": [
    "dataset = 'train'\n",
    "big_epochs=15\n",
    "epochs=1\n",
    "for _ in tqdm(range(big_epochs)):\n",
    "    for i in folders[0:1]:\n",
    "        for j in folders:\n",
    "            list_data = []\n",
    "            list_id = []\n",
    "\n",
    "            for k in folders:\n",
    "\n",
    "                path = f'bms-molecular-translation/{dataset}/{i}/{j}/{k}/'\n",
    "\n",
    "                # Files\n",
    "                list_names = os.listdir(path)\n",
    "                list_path = [path]*len(list_names)\n",
    "\n",
    "                # Image data\n",
    "                ImageSet = ImageSetObject(list_names, list_path)\n",
    "                ImageSet.prepare_data(new_shape, filtering=False, adjust=False)\n",
    "                data = ImageSet.X\n",
    "                list_data.append(data.astype('float16'))\n",
    "                list_id.append(ImageSet.image_ids)\n",
    "\n",
    "            # Select data\n",
    "            data = np.concatenate(list_data)\n",
    "            list_id = np.concatenate(list_id)\n",
    "\n",
    "            # Text targets\n",
    "            targets = df_targets[list_id].values\n",
    "            targets = [[char2idx[x] for x in target] for target in targets]\n",
    "            targets = pad_sequences(targets, padding='post', maxlen=max_len)\n",
    "\n",
    "            # Split train/test\n",
    "            data, targets = shuffle(data, targets, random_state=0)\n",
    "\n",
    "            predictive_network_A.fit(\n",
    "                data, \n",
    "                targets, \n",
    "                epochs=epochs, \n",
    "                batch_size=batch_size, \n",
    "                verbose=1,\n",
    "            )\n",
    "    predictive_network_A.save(f\"outputs/{name}\")"
   ]
  },
  {
   "cell_type": "markdown",
   "metadata": {},
   "source": [
    "### Show images"
   ]
  },
  {
   "cell_type": "code",
   "execution_count": null,
   "metadata": {},
   "outputs": [],
   "source": [
    "# Show images\n",
    "n = 5\n",
    "fig = make_subplots(rows=1, cols=n)\n",
    "for i in range(n):\n",
    "    fig.add_trace(show_image(data[i, :, :, 0]).data[0], row = 1, col = i+1)\n",
    "fig.update_layout(\n",
    "    height=150,\n",
    "    coloraxis_showscale=False, \n",
    "    margin={\"l\": 0, \"r\": 0, \"t\": 0, \"b\": 0}\n",
    ")\n",
    "fig.update_xaxes(showticklabels=False)\n",
    "fig.update_yaxes(showticklabels=False)"
   ]
  },
  {
   "cell_type": "markdown",
   "metadata": {},
   "source": [
    "### Examples"
   ]
  },
  {
   "cell_type": "code",
   "execution_count": null,
   "metadata": {},
   "outputs": [],
   "source": [
    "# Images data \n",
    "dataset = 'train'\n",
    "i = folders[0]\n",
    "j = folders[0]\n",
    "k = folders[0]\n",
    "\n",
    "list_data = []\n",
    "list_id = []\n",
    "\n",
    "path = f'bms-molecular-translation/{dataset}/{i}/{j}/{k}/'\n",
    "\n",
    "# Files\n",
    "list_names = os.listdir(path)\n",
    "list_path = [path]*len(list_names)\n",
    "\n",
    "# Image data\n",
    "ImageSet = ImageSetObject(list_names, list_path)\n",
    "ImageSet.prepare_data(new_shape, filtering=False, adjust=False)\n",
    "data = ImageSet.X\n",
    "list_data.append(data)\n",
    "list_id.append(ImageSet.image_ids)\n",
    "\n",
    "# Select data\n",
    "data = np.concatenate(list_data)\n",
    "list_id = np.concatenate(list_id)\n",
    "\n",
    "# Text targets\n",
    "targets = df_targets[list_id].values\n",
    "targets = [[char2idx[x] for x in target] for target in targets]\n",
    "targets = pad_sequences(targets, padding='post', maxlen=max_len)"
   ]
  },
  {
   "cell_type": "code",
   "execution_count": null,
   "metadata": {},
   "outputs": [],
   "source": [
    "# Train Score\n",
    "limit=128\n",
    "y_true=[''.join([idx2char[y] for y in yy]) for yy in targets[:limit]]\n",
    "y_predict=get_text_from_predict(predictive_network_A, data[:limit], idx2char)\n",
    "print(f\"\\t> Train Score: {score(y_true, y_predict)}\")\n",
    "[f\"{x} -> {y}\" for x,y in zip(y_true[0:8], y_predict[0:8])]"
   ]
  },
  {
   "cell_type": "markdown",
   "metadata": {},
   "source": [
    "## Target B"
   ]
  },
  {
   "cell_type": "code",
   "execution_count": null,
   "metadata": {},
   "outputs": [],
   "source": [
    "name_target = 'target_B'\n",
    "\n",
    "# Target parameters    \n",
    "df_targets = TargetBMS.targets[name_target]\n",
    "max_len = dico_targets_shape[name_target]['max_len']\n",
    "vocab_size = dico_targets_shape[name_target]['vocab_size']\n",
    "char2idx = dico_targets_shape[name_target]['char2idx']\n",
    "idx2char = dico_targets_shape[name_target]['idx2char']\n",
    "\n",
    "# Create model\n",
    "name=f'BMS_predictive_end_to_end_{name_target}'"
   ]
  },
  {
   "cell_type": "code",
   "execution_count": null,
   "metadata": {},
   "outputs": [],
   "source": [
    "# Create predictive_network_double_input\n",
    "predictive_network_B = get_predictive_network(max_len, vocab_size)\n",
    "predictive_network_B.compile(optimizer=optimizer, loss=loss_function)\n",
    "predictive_network_B.build(input_shape=(None, new_shape[0], new_shape[1], 1))\n",
    "predictive_network_B.summary()"
   ]
  },
  {
   "cell_type": "code",
   "execution_count": null,
   "metadata": {},
   "outputs": [],
   "source": [
    "# # Load model\n",
    "# predictive_network_B = tf.keras.models.load_model(f\"outputs/BMS_predictive_end_to_end_target_B\", compile=False)\n",
    "# predictive_network_B.compile(optimizer=optimizer, loss=loss_function)"
   ]
  },
  {
   "cell_type": "code",
   "execution_count": null,
   "metadata": {
    "scrolled": false
   },
   "outputs": [],
   "source": [
    "dataset = 'train'\n",
    "big_epochs=15\n",
    "epochs=1\n",
    "for _ in tqdm(range(big_epochs)):\n",
    "    for i in folders[0:1]:\n",
    "        for j in folders:\n",
    "            list_data = []\n",
    "            list_id = []\n",
    "\n",
    "            for k in folders:\n",
    "\n",
    "                path = f'bms-molecular-translation/{dataset}/{i}/{j}/{k}/'\n",
    "\n",
    "                # Files\n",
    "                list_names = os.listdir(path)\n",
    "                list_path = [path]*len(list_names)\n",
    "\n",
    "                # Image data\n",
    "                ImageSet = ImageSetObject(list_names, list_path)\n",
    "                ImageSet.prepare_data(new_shape, filtering=False, adjust=False)\n",
    "                data = ImageSet.X\n",
    "                list_data.append(data.astype('float16'))\n",
    "                list_id.append(ImageSet.image_ids)\n",
    "\n",
    "            # Select data\n",
    "            data = np.concatenate(list_data)\n",
    "            list_id = np.concatenate(list_id)\n",
    "\n",
    "            # Text targets\n",
    "            targets = df_targets[list_id].values\n",
    "            targets = [[char2idx[x] for x in target] for target in targets]\n",
    "            targets = pad_sequences(targets, padding='post', maxlen=max_len)\n",
    "\n",
    "            # Split train/test\n",
    "            data, targets = shuffle(data, targets, random_state=0)\n",
    "\n",
    "            predictive_network_B.fit(\n",
    "                data, \n",
    "                targets, \n",
    "                epochs=epochs, \n",
    "                batch_size=batch_size, \n",
    "                verbose=1\n",
    "            )\n",
    "    predictive_network_B.save(f\"outputs/{name}\")"
   ]
  },
  {
   "cell_type": "markdown",
   "metadata": {},
   "source": [
    "### Examples"
   ]
  },
  {
   "cell_type": "code",
   "execution_count": null,
   "metadata": {},
   "outputs": [],
   "source": [
    "# Images data \n",
    "dataset = 'train'\n",
    "i = folders[0]\n",
    "j = folders[0]\n",
    "k = folders[0]\n",
    "\n",
    "list_data = []\n",
    "list_id = []\n",
    "\n",
    "path = f'bms-molecular-translation/{dataset}/{i}/{j}/{k}/'\n",
    "\n",
    "# Files\n",
    "list_names = os.listdir(path)\n",
    "list_path = [path]*len(list_names)\n",
    "\n",
    "# Image data\n",
    "ImageSet = ImageSetObject(list_names, list_path)\n",
    "ImageSet.prepare_data(new_shape, filtering=False, adjust=False)\n",
    "data = ImageSet.X\n",
    "list_data.append(data)\n",
    "list_id.append(ImageSet.image_ids)\n",
    "\n",
    "# Select data\n",
    "data = np.concatenate(list_data)\n",
    "list_id = np.concatenate(list_id)\n",
    "\n",
    "# Text targets\n",
    "targets = df_targets[list_id].values\n",
    "targets = [[char2idx[x] for x in target] for target in targets]\n",
    "targets = pad_sequences(targets, padding='post', maxlen=max_len)"
   ]
  },
  {
   "cell_type": "code",
   "execution_count": null,
   "metadata": {},
   "outputs": [],
   "source": [
    "# Train Score\n",
    "limit=128\n",
    "y_true=[''.join([idx2char[y] for y in yy]) for yy in targets[:limit]]\n",
    "y_predict=get_text_from_predict(predictive_network_B, data[:limit], idx2char)\n",
    "print(f\"\\t> Train Score: {score(y_true, y_predict)}\")\n",
    "[f\"{x} -> {y}\" for x,y in zip(y_true[0:8], y_predict[0:8])]"
   ]
  },
  {
   "cell_type": "markdown",
   "metadata": {},
   "source": [
    "## Target C"
   ]
  },
  {
   "cell_type": "code",
   "execution_count": null,
   "metadata": {},
   "outputs": [],
   "source": [
    "name_target = 'target_C'\n",
    "\n",
    "# Target parameters    \n",
    "df_targets = TargetBMS.targets[name_target]\n",
    "max_len = dico_targets_shape[name_target]['max_len']\n",
    "vocab_size = dico_targets_shape[name_target]['vocab_size']\n",
    "char2idx = dico_targets_shape[name_target]['char2idx']\n",
    "idx2char = dico_targets_shape[name_target]['idx2char']\n",
    "\n",
    "# Create model\n",
    "name=f'BMS_predictive_end_to_end_{name_target}'"
   ]
  },
  {
   "cell_type": "code",
   "execution_count": null,
   "metadata": {},
   "outputs": [],
   "source": [
    "# Create predictive_network_double_input\n",
    "predictive_network_C = get_predictive_network(max_len, vocab_size)\n",
    "predictive_network_C.compile(optimizer=optimizer, loss=loss_function)\n",
    "predictive_network_C.build(input_shape=(None, new_shape[0], new_shape[1], 1))\n",
    "predictive_network_C.summary()"
   ]
  },
  {
   "cell_type": "code",
   "execution_count": null,
   "metadata": {},
   "outputs": [],
   "source": [
    "# # Load model\n",
    "# predictive_network_C = tf.keras.models.load_model(f\"outputs/BMS_predictive_end_to_end_target_C\", compile=False)\n",
    "# predictive_network_C.compile(optimizer=optimizer, loss=loss_function)"
   ]
  },
  {
   "cell_type": "code",
   "execution_count": null,
   "metadata": {
    "scrolled": false
   },
   "outputs": [],
   "source": [
    "dataset = 'train'\n",
    "big_epochs = 15\n",
    "epochs = 1\n",
    "for _ in tqdm(range(big_epochs)):\n",
    "    for i in folders[:1]:\n",
    "        for j in folders:\n",
    "            list_data = []\n",
    "            list_id = []\n",
    "\n",
    "            for k in folders:\n",
    "\n",
    "                path = f'bms-molecular-translation/{dataset}/{i}/{j}/{k}/'\n",
    "\n",
    "                # Files\n",
    "                list_names = os.listdir(path)\n",
    "                list_path = [path]*len(list_names)\n",
    "\n",
    "                # Image data\n",
    "                ImageSet = ImageSetObject(list_names, list_path)\n",
    "                ImageSet.prepare_data(new_shape, filtering=False, adjust=False)\n",
    "                data = ImageSet.X\n",
    "                list_data.append(data.astype('float16'))\n",
    "                list_id.append(ImageSet.image_ids)\n",
    "\n",
    "            # Select data\n",
    "            data = np.concatenate(list_data)\n",
    "            list_id = np.concatenate(list_id)\n",
    "\n",
    "            # Text targets\n",
    "            targets = df_targets[list_id].values\n",
    "            targets = [[char2idx[x] for x in target] for target in targets]\n",
    "            targets = pad_sequences(targets, padding='post', maxlen=max_len)\n",
    "\n",
    "            # Split train/test\n",
    "            data, targets = shuffle(data, targets, random_state=0)\n",
    "\n",
    "            predictive_network_C.fit(\n",
    "                data, \n",
    "                targets, \n",
    "                epochs=epochs, \n",
    "                batch_size=batch_size, \n",
    "                verbose=1,\n",
    "            )\n",
    "    predictive_network_C.save(f\"outputs/{name}\")"
   ]
  },
  {
   "cell_type": "markdown",
   "metadata": {},
   "source": [
    "### Examples"
   ]
  },
  {
   "cell_type": "code",
   "execution_count": null,
   "metadata": {},
   "outputs": [],
   "source": [
    "# Images data \n",
    "dataset = 'train'\n",
    "i = folders[0]\n",
    "j = folders[0]\n",
    "k = folders[0]\n",
    "\n",
    "list_data = []\n",
    "list_id = []\n",
    "\n",
    "path = f'bms-molecular-translation/{dataset}/{i}/{j}/{k}/'\n",
    "\n",
    "# Files\n",
    "list_names = os.listdir(path)\n",
    "list_path = [path]*len(list_names)\n",
    "\n",
    "# Image data\n",
    "ImageSet = ImageSetObject(list_names, list_path)\n",
    "ImageSet.prepare_data(new_shape, filtering=False, adjust=False)\n",
    "data = ImageSet.X\n",
    "list_data.append(data)\n",
    "list_id.append(ImageSet.image_ids)\n",
    "\n",
    "# Select data\n",
    "data = np.concatenate(list_data)\n",
    "list_id = np.concatenate(list_id)\n",
    "\n",
    "# Text targets\n",
    "targets = df_targets[list_id].values\n",
    "targets = [[char2idx[x] for x in target] for target in targets]\n",
    "targets = pad_sequences(targets, padding='post', maxlen=max_len)"
   ]
  },
  {
   "cell_type": "code",
   "execution_count": null,
   "metadata": {},
   "outputs": [],
   "source": [
    "# Train Score\n",
    "limit=128\n",
    "y_true=[''.join([idx2char[y] for y in yy]) for yy in targets[:limit]]\n",
    "y_predict=get_text_from_predict(predictive_network_C, data[:limit], idx2char)\n",
    "print(f\"\\t> Train Score: {score(y_true, y_predict)}\")\n",
    "[f\"{x} -> {y}\" for x,y in zip(y_true[0:8], y_predict[0:8])]"
   ]
  },
  {
   "cell_type": "markdown",
   "metadata": {},
   "source": [
    "# Predict and export submission"
   ]
  },
  {
   "cell_type": "code",
   "execution_count": null,
   "metadata": {},
   "outputs": [],
   "source": [
    "# Load models\n",
    "predictive_network = tf.keras.models.load_model(f\"outputs/BMS_predictive_end_to_end_target_A\", compile=False)\n",
    "predictive_network_B = tf.keras.models.load_model(f\"outputs/BMS_predictive_end_to_end_target_B\", compile=False)\n",
    "predictive_network_C = tf.keras.models.load_model(f\"outputs/BMS_predictive_end_to_end_target_C\", compile=False)\n",
    "\n",
    "# Sample_submission\n",
    "submission = pd.read_csv(\"outputs/sample_submission.csv\")\n",
    "submission = submission.set_index('image_id')"
   ]
  },
  {
   "cell_type": "code",
   "execution_count": null,
   "metadata": {},
   "outputs": [],
   "source": [
    "dataset = 'test'\n",
    "\n",
    "for i in tqdm(folders):\n",
    "    for j in tqdm(folders):\n",
    "        for k in folders:\n",
    "\n",
    "            path = f'bms-molecular-translation/{dataset}/{i}/{j}/{k}/'\n",
    "\n",
    "            # Files\n",
    "            list_names = os.listdir(path)\n",
    "            list_path = [path]*len(list_names)\n",
    "\n",
    "            # Image data\n",
    "            ImageSet = ImageSetObject(list_names, list_path)\n",
    "            ImageSet.prepare_data(new_shape, filtering=False, adjust=False)\n",
    "            data = ImageSet.X.astype('float16')\n",
    "            list_id = ImageSet.image_ids\n",
    "\n",
    "            # Prediction\n",
    "            output = ['InChI=1S']*len(data)\n",
    "\n",
    "            y = get_text_from_predict(predictive_network_A, data, dico_targets_shape['target_A']['idx2char'])\n",
    "            output = [o + f'/{y[i]}' for i,o in enumerate(output)]\n",
    "\n",
    "            y = get_text_from_predict(predictive_network_B, data, dico_targets_shape['target_B']['idx2char'])\n",
    "            output = [o + f'/{y[i]}' for i,o in enumerate(output)]           \n",
    "\n",
    "            y = get_text_from_predict(predictive_network_C, data, dico_targets_shape['target_C']['idx2char'])\n",
    "            output = [o + f'/{y[i]}' for i,o in enumerate(output)]\n",
    "\n",
    "            output = [o.replace(' ', '') for o in output]\n",
    "\n",
    "            # Prepare df\n",
    "            df_output = pd.DataFrame([list_id, output], index=['image_id', 'InChI']).transpose().set_index('image_id')\n",
    "            submission.loc[df_output.index,'InChI'] = df_output['InChI']\n",
    "\n",
    "# Export\n",
    "submission.reset_index().to_csv(f'outputs/submission_final.csv', index=False)"
   ]
  },
  {
   "cell_type": "code",
   "execution_count": null,
   "metadata": {},
   "outputs": [],
   "source": []
  }
 ],
 "metadata": {
  "kernelspec": {
   "display_name": "Python 3",
   "language": "python",
   "name": "python3"
  },
  "language_info": {
   "codemirror_mode": {
    "name": "ipython",
    "version": 3
   },
   "file_extension": ".py",
   "mimetype": "text/x-python",
   "name": "python",
   "nbconvert_exporter": "python",
   "pygments_lexer": "ipython3",
   "version": "3.7.9"
  }
 },
 "nbformat": 4,
 "nbformat_minor": 2
}
