{
 "cells": [
  {
   "cell_type": "code",
   "execution_count": null,
   "metadata": {},
   "outputs": [],
   "source": [
    "import os\n",
    "import numpy as np\n",
    "import pandas as pd\n",
    "from tqdm import tqdm\n",
    "import random\n",
    "import tensorflow as tf\n",
    "from tensorflow.keras.optimizers import Adam\n",
    "from tensorflow.keras.callbacks import EarlyStopping, ModelCheckpoint\n",
    "from tensorflow.keras.preprocessing.sequence import pad_sequences\n",
    "from sklearn.utils import shuffle\n",
    "\n",
    "import plotly.graph_objects as go\n",
    "from tensorflow.keras import Sequential\n",
    "from tensorflow.keras.layers import InputLayer, Dense, RepeatVector, Reshape, Flatten, Dropout, TimeDistributed, Conv2D, MaxPool2D, GRU, LSTM, BatchNormalization\n",
    "\n",
    "import plotly.graph_objects as go\n",
    "import plotly.express as px\n",
    "from plotly.subplots import make_subplots\n",
    "\n",
    "from target import TargetSet\n",
    "from image import ImageSetObject, show_image\n",
    "from model import VAE, loss_function, get_text_from_predict, score"
   ]
  },
  {
   "cell_type": "code",
   "execution_count": null,
   "metadata": {},
   "outputs": [],
   "source": [
    "def get_predictive_network(max_len, vocab_size):\n",
    "    predictive_network = Sequential(\n",
    "    [\n",
    "        Conv2D(filters=32, kernel_size=8,\n",
    "               strides=(2, 2), activation='relu'),\n",
    "        MaxPool2D(),\n",
    "        BatchNormalization(),\n",
    "        Conv2D(filters=32, kernel_size=8,\n",
    "               strides=(2, 2), activation='relu'),\n",
    "        MaxPool2D(),\n",
    "        BatchNormalization(),\n",
    "        Conv2D(filters=32, kernel_size=8,\n",
    "               strides=(2, 2), activation='relu'),\n",
    "        MaxPool2D(),\n",
    "        BatchNormalization(),\n",
    "        Flatten(),\n",
    "        RepeatVector(max_len),\n",
    "        LSTM(128, return_sequences=True, activation='relu'),\n",
    "        Dropout(0.25),\n",
    "        BatchNormalization(),\n",
    "        TimeDistributed(Dense(vocab_size, activation='softmax'))\n",
    "    ])\n",
    "    return predictive_network"
   ]
  },
  {
   "cell_type": "code",
   "execution_count": null,
   "metadata": {},
   "outputs": [],
   "source": [
    "# Folders\n",
    "folders = '0123456789abcdef'\n",
    "\n",
    "# Random seed\n",
    "random_state=0\n",
    "\n",
    "# Parameters\n",
    "new_shape=[256, 256]"
   ]
  },
  {
   "cell_type": "markdown",
   "metadata": {},
   "source": [
    "# Load target file"
   ]
  },
  {
   "cell_type": "code",
   "execution_count": null,
   "metadata": {},
   "outputs": [],
   "source": [
    "TargetBMS = TargetSet()"
   ]
  },
  {
   "cell_type": "code",
   "execution_count": null,
   "metadata": {},
   "outputs": [],
   "source": [
    "dico_targets_shape = {}\n",
    "\n",
    "for name_target in ['target_A', 'target_B', 'target_C']:\n",
    "    df_targets = TargetBMS.targets[name_target]\n",
    "\n",
    "    # Text processing\n",
    "    text = ''.join(df_targets.values)\n",
    "\n",
    "    # Vocab\n",
    "    vocab = [' '] + sorted(set(text))\n",
    "    vocab_size = len(vocab)\n",
    "\n",
    "    # Mapping\n",
    "    char2idx = {u:i for i, u in enumerate(vocab)}\n",
    "    idx2char = np.array(vocab)\n",
    "\n",
    "    # Max length\n",
    "    max_len = max([len(x) for x in df_targets])\n",
    "    \n",
    "    print(f\"{name_target} > vocab_size={vocab_size} | max_len={max_len}\")\n",
    "    \n",
    "    dico_targets_shape[name_target] = {'vocab_size':vocab_size, 'max_len':max_len, 'idx2char':idx2char, 'char2idx':char2idx}"
   ]
  },
  {
   "cell_type": "markdown",
   "metadata": {},
   "source": [
    "# Load image data"
   ]
  },
  {
   "cell_type": "code",
   "execution_count": null,
   "metadata": {},
   "outputs": [],
   "source": [
    "# # Images data \n",
    "# dataset = 'train'\n",
    "# i = folders[0]\n",
    "# j = folders[0]\n",
    "\n",
    "# list_data = []\n",
    "# list_id = []\n",
    "\n",
    "# for k in tqdm(folders):\n",
    "\n",
    "#     path = f'bms-molecular-translation/{dataset}/{i}/{j}/{k}/'\n",
    "\n",
    "#     # Files\n",
    "#     list_names = os.listdir(path)\n",
    "#     list_path = [path]*len(list_names)\n",
    "\n",
    "#     # Image data\n",
    "#     ImageSet = ImageSetObject(list_names, list_path)\n",
    "#     ImageSet.prepare_data(new_shape, filtering=False, adjust=False)\n",
    "#     data = ImageSet.X\n",
    "#     list_data.append(data)\n",
    "#     list_id.append(ImageSet.image_ids)\n",
    "\n",
    "# # Select data\n",
    "# data = np.concatenate(list_data)\n",
    "# list_id = np.concatenate(list_id)"
   ]
  },
  {
   "cell_type": "code",
   "execution_count": null,
   "metadata": {},
   "outputs": [],
   "source": [
    "# # Show\n",
    "# n = 5\n",
    "# fig = make_subplots(rows=1, cols=n)\n",
    "# for i in range(n):\n",
    "#     fig.add_trace(show_image(data[i, :, :, 0]).data[0], row = 1, col = i+1)\n",
    "# fig.update_layout(\n",
    "#     height=150,\n",
    "#     coloraxis_showscale=False, \n",
    "#     margin={\"l\": 0, \"r\": 0, \"t\": 0, \"b\": 0}\n",
    "# )\n",
    "# fig.update_xaxes(showticklabels=False)\n",
    "# fig.update_yaxes(showticklabels=False)"
   ]
  },
  {
   "cell_type": "markdown",
   "metadata": {},
   "source": [
    "# Training"
   ]
  },
  {
   "cell_type": "markdown",
   "metadata": {},
   "source": [
    "## Target A"
   ]
  },
  {
   "cell_type": "code",
   "execution_count": null,
   "metadata": {},
   "outputs": [],
   "source": [
    "name_target = 'target_A'\n",
    "\n",
    "# Target parameters    \n",
    "df_targets = TargetBMS.targets[name_target]\n",
    "max_len = dico_targets_shape[name_target]['max_len']\n",
    "vocab_size = dico_targets_shape[name_target]['vocab_size']\n",
    "char2idx = dico_targets_shape[name_target]['char2idx']\n",
    "idx2char = dico_targets_shape[name_target]['idx2char']\n",
    "\n",
    "# Create model\n",
    "big_epochs=3\n",
    "epochs=1\n",
    "batch_size=128\n",
    "patience=10\n",
    "lr=1e-4\n",
    "optimizer = Adam(learning_rate=lr)\n",
    "name=f'BMS_predictive_end_to_end_{name_target}'\n",
    "\n",
    "predictive_network = get_predictive_network(max_len, vocab_size)\n",
    "predictive_network.build(input_shape=(None, new_shape[0], new_shape[1], 1))\n",
    "predictive_network.compile(optimizer=optimizer, loss=loss_function)\n",
    "predictive_network.summary()"
   ]
  },
  {
   "cell_type": "code",
   "execution_count": null,
   "metadata": {},
   "outputs": [],
   "source": [
    "dataset = 'train'\n",
    "for _ in tqdm(range(big_epochs)):\n",
    "    for i in tqdm(folders[:4]):\n",
    "        for j in tqdm(folders):\n",
    "            list_data = []\n",
    "            list_id = []\n",
    "\n",
    "            for k in folders:\n",
    "\n",
    "                path = f'bms-molecular-translation/{dataset}/{i}/{j}/{k}/'\n",
    "\n",
    "                # Files\n",
    "                list_names = os.listdir(path)\n",
    "                list_path = [path]*len(list_names)\n",
    "\n",
    "                # Image data\n",
    "                ImageSet = ImageSetObject(list_names, list_path)\n",
    "                ImageSet.prepare_data(new_shape, filtering=False, adjust=False)\n",
    "                data = ImageSet.X\n",
    "                list_data.append(data)\n",
    "                list_id.append(ImageSet.image_ids)\n",
    "\n",
    "            # Select data\n",
    "            data = np.concatenate(list_data)\n",
    "            list_id = np.concatenate(list_id)\n",
    "\n",
    "            # Text targets\n",
    "            targets = df_targets[list_id].values\n",
    "            targets = [[char2idx[x] for x in target] for target in targets]\n",
    "            targets = pad_sequences(targets, padding='post', maxlen=max_len)\n",
    "\n",
    "            # Split train/test\n",
    "            data, targets = shuffle(data, targets, random_state=0)\n",
    "\n",
    "#             TRAIN_BUF = int(data.shape[0]*0.8)\n",
    "#             data_train = data[:TRAIN_BUF]\n",
    "#             data_validation = data[TRAIN_BUF:]\n",
    "#             targets_train = targets[:TRAIN_BUF]\n",
    "#             targets_validation = targets[TRAIN_BUF:]\n",
    "#             print(f\"train: {len(data_train)} / validation: {len(data_validation)}\")\n",
    "\n",
    "            # Callbacks and compil\n",
    "#             es = EarlyStopping(monitor='val_loss', mode='min', verbose=1, patience=patience)\n",
    "#             mc = ModelCheckpoint(f'outputs/{name}.h5', monitor='val_loss', mode='min', verbose=1, save_best_only=True)\n",
    "\n",
    "            predictive_network.fit(\n",
    "                data, \n",
    "                targets, \n",
    "#                 validation_data = (data_validation, targets_validation), \n",
    "                epochs=epochs, \n",
    "                batch_size=batch_size, \n",
    "                verbose=1,\n",
    "#                 callbacks=[es, mc]\n",
    "            )\n",
    "    predictive_network.save(f\"outputs/{name})"
   ]
  },
  {
   "cell_type": "code",
   "execution_count": null,
   "metadata": {},
   "outputs": [],
   "source": [
    "predictive_network.save(f\"outputs/{name}\")"
   ]
  },
  {
   "cell_type": "code",
   "execution_count": null,
   "metadata": {},
   "outputs": [],
   "source": [
    "# predictive_network.load_weights(f\"outputs/{name}\")"
   ]
  },
  {
   "cell_type": "code",
   "execution_count": null,
   "metadata": {},
   "outputs": [],
   "source": [
    "# Images data \n",
    "dataset = 'train'\n",
    "i = folders[0]\n",
    "j = folders[0]\n",
    "k = folders[0]\n",
    "\n",
    "list_data = []\n",
    "list_id = []\n",
    "\n",
    "path = f'bms-molecular-translation/{dataset}/{i}/{j}/{k}/'\n",
    "\n",
    "# Files\n",
    "list_names = os.listdir(path)\n",
    "list_path = [path]*len(list_names)\n",
    "\n",
    "# Image data\n",
    "ImageSet = ImageSetObject(list_names, list_path)\n",
    "ImageSet.prepare_data(new_shape, filtering=False, adjust=False)\n",
    "data = ImageSet.X\n",
    "list_data.append(data)\n",
    "list_id.append(ImageSet.image_ids)\n",
    "\n",
    "# Select data\n",
    "data = np.concatenate(list_data)\n",
    "list_id = np.concatenate(list_id)\n",
    "\n",
    "# Text targets\n",
    "targets = df_targets[list_id].values\n",
    "targets = [[char2idx[x] for x in target] for target in targets]\n",
    "targets = pad_sequences(targets, padding='post', maxlen=max_len)"
   ]
  },
  {
   "cell_type": "code",
   "execution_count": null,
   "metadata": {},
   "outputs": [],
   "source": [
    "# Train Score\n",
    "limit=128\n",
    "y_true=[''.join([idx2char[y] for y in yy]) for yy in targets[:limit]]\n",
    "y_predict=get_text_from_predict(predictive_network, data[:limit], idx2char)\n",
    "print(f\"\\t> Train Score: {score(y_true, y_predict)}\")\n",
    "[f\"{x} -> {y}\" for x,y in zip(y_true[0:8], y_predict[0:8])]"
   ]
  },
  {
   "cell_type": "code",
   "execution_count": null,
   "metadata": {},
   "outputs": [],
   "source": [
    "# Images data \n",
    "dataset = 'train'\n",
    "i = folders[5]\n",
    "j = folders[0]\n",
    "k = folders[0]\n",
    "\n",
    "list_data = []\n",
    "list_id = []\n",
    "\n",
    "path = f'bms-molecular-translation/{dataset}/{i}/{j}/{k}/'\n",
    "\n",
    "# Files\n",
    "list_names = os.listdir(path)\n",
    "list_path = [path]*len(list_names)\n",
    "\n",
    "# Image data\n",
    "ImageSet = ImageSetObject(list_names, list_path)\n",
    "ImageSet.prepare_data(new_shape, filtering=False, adjust=False)\n",
    "data = ImageSet.X\n",
    "list_data.append(data)\n",
    "list_id.append(ImageSet.image_ids)\n",
    "\n",
    "# Select data\n",
    "data = np.concatenate(list_data)\n",
    "list_id = np.concatenate(list_id)\n",
    "\n",
    "# Text targets\n",
    "targets = df_targets[list_id].values\n",
    "targets = [[char2idx[x] for x in target] for target in targets]\n",
    "targets = pad_sequences(targets, padding='post', maxlen=max_len)"
   ]
  },
  {
   "cell_type": "code",
   "execution_count": null,
   "metadata": {},
   "outputs": [],
   "source": [
    "# Test Score\n",
    "y_true=[''.join([idx2char[y] for y in yy]) for yy in targets[:limit]]\n",
    "y_predict=get_text_from_predict(predictive_network, data[:limit], idx2char)\n",
    "print(f\"\\t> Test Score: {score(y_true, y_predict)}\")\n",
    "[f\"{x} -> {y}\" for x,y in zip(y_true[0:8], y_predict[0:8])]"
   ]
  },
  {
   "cell_type": "code",
   "execution_count": null,
   "metadata": {},
   "outputs": [],
   "source": []
  },
  {
   "cell_type": "code",
   "execution_count": null,
   "metadata": {},
   "outputs": [],
   "source": []
  },
  {
   "cell_type": "code",
   "execution_count": null,
   "metadata": {},
   "outputs": [],
   "source": []
  },
  {
   "cell_type": "code",
   "execution_count": null,
   "metadata": {},
   "outputs": [],
   "source": []
  },
  {
   "cell_type": "code",
   "execution_count": null,
   "metadata": {},
   "outputs": [],
   "source": []
  },
  {
   "cell_type": "code",
   "execution_count": null,
   "metadata": {},
   "outputs": [],
   "source": []
  },
  {
   "cell_type": "code",
   "execution_count": null,
   "metadata": {},
   "outputs": [],
   "source": []
  },
  {
   "cell_type": "markdown",
   "metadata": {},
   "source": [
    "# Predict and export submission"
   ]
  },
  {
   "cell_type": "code",
   "execution_count": null,
   "metadata": {},
   "outputs": [],
   "source": [
    "# Images data \n",
    "dataset = 'test'\n",
    "\n",
    "list_data = []\n",
    "\n",
    "# Sample_submission\n",
    "submission = pd.read_csv(\"outputs/submission.csv\")\n",
    "submission = submission.set_index('image_id')\n",
    "\n",
    "for i in tqdm(folders):\n",
    "    for j in tqdm(folders):\n",
    "        for k in folders:\n",
    "            path = f'bms-molecular-translation/{dataset}/{i}/{j}/{k}/'\n",
    "\n",
    "            # Files\n",
    "            list_names = os.listdir(path)\n",
    "            list_path = [path]*len(list_names)\n",
    "\n",
    "            # Image data\n",
    "            ImageSet = ImageSetObject(list_names, list_path)\n",
    "            ImageSet.prepare_data(new_shape, filtering=False, adjust=False)\n",
    "            data = ImageSet.X\n",
    "            list_id = ImageSet.image_ids\n",
    "\n",
    "            output = ['InChI=1S']*len(data)\n",
    "            for name_target in ['target_A']: #, 'target_B', 'target_C']:\n",
    "\n",
    "                name=f'BMS_predictive_end_to_end_{name_target}'\n",
    "\n",
    "                max_len = dico_targets_shape[name_target]['max_len']\n",
    "                vocab_size = dico_targets_shape[name_target]['vocab_size']\n",
    "                idx2char = dico_targets_shape[name_target]['idx2char']\n",
    "\n",
    "                predictive_network = get_predictive_network(max_len, vocab_size)\n",
    "                predictive_network.build(input_shape=(None, new_shape[0], new_shape[1], 1))\n",
    "                predictive_network.load_weights(f\"outputs/{name}.h5\")\n",
    "\n",
    "                y = get_text_from_predict(predictive_network, data, idx2char)\n",
    "\n",
    "                output = [o + f'/{y[i]}' if y[i] != max_len*' ' else o for i,o in enumerate(output)]\n",
    "                output = [o.replace(' ', '') for o in output]\n",
    "\n",
    "            # Prepare df\n",
    "            df_output = pd.DataFrame([list_id, output], index=['image_id', 'InChI']).transpose().set_index('image_id')\n",
    "            submission.loc[df_output.index,'InChI'] = df_output['InChI']\n",
    "\n",
    "        # Export\n",
    "        submission.reset_index().to_csv('outputs/submission.csv', index=False)"
   ]
  },
  {
   "cell_type": "code",
   "execution_count": null,
   "metadata": {},
   "outputs": [],
   "source": []
  },
  {
   "cell_type": "code",
   "execution_count": null,
   "metadata": {},
   "outputs": [],
   "source": []
  },
  {
   "cell_type": "code",
   "execution_count": null,
   "metadata": {},
   "outputs": [],
   "source": []
  },
  {
   "cell_type": "code",
   "execution_count": null,
   "metadata": {},
   "outputs": [],
   "source": []
  }
 ],
 "metadata": {
  "kernelspec": {
   "display_name": "Python 3",
   "language": "python",
   "name": "python3"
  },
  "language_info": {
   "codemirror_mode": {
    "name": "ipython",
    "version": 3
   },
   "file_extension": ".py",
   "mimetype": "text/x-python",
   "name": "python",
   "nbconvert_exporter": "python",
   "pygments_lexer": "ipython3",
   "version": "3.7.9"
  }
 },
 "nbformat": 4,
 "nbformat_minor": 2
}
