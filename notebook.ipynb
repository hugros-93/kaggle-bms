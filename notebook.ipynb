{
 "cells": [
  {
   "cell_type": "code",
   "execution_count": null,
   "metadata": {},
   "outputs": [],
   "source": [
    "import os\n",
    "import numpy as np\n",
    "import pandas as pd\n",
    "from tqdm import tqdm\n",
    "import random\n",
    "from tensorflow.keras.optimizers import Adam\n",
    "\n",
    "from image import ImageSetObject, show_image\n",
    "from model import get_model, get_text_from_predict, score, loss_function"
   ]
  },
  {
   "cell_type": "markdown",
   "metadata": {},
   "source": [
    "# Load .csv file"
   ]
  },
  {
   "cell_type": "code",
   "execution_count": null,
   "metadata": {},
   "outputs": [],
   "source": [
    "# train labels\n",
    "train_labels = pd.read_csv(\"bms-molecular-translation/train_labels.csv\")\n",
    "train_labels['InChI'] = train_labels['InChI'].apply(lambda x: x.replace('InChI=', ''))\n",
    "train_labels = train_labels.set_index(\"image_id\")\n",
    "print(f\"Size training set: {len(train_labels)}\")"
   ]
  },
  {
   "cell_type": "code",
   "execution_count": null,
   "metadata": {},
   "outputs": [],
   "source": [
    "# Text processing\n",
    "text = ''.join(train_labels['InChI'].values)\n",
    "\n",
    "# Vocab\n",
    "vocab = [' '] + sorted(set(text))\n",
    "vocab_size = len(vocab)\n",
    "\n",
    "# Mapping\n",
    "char2idx = {u:i for i, u in enumerate(vocab)}\n",
    "idx2char = np.array(vocab)\n",
    "\n",
    "# Max length\n",
    "max_len = max([len(x) for x in train_labels['InChI']])"
   ]
  },
  {
   "cell_type": "markdown",
   "metadata": {},
   "source": [
    "# Load image data, create target and model"
   ]
  },
  {
   "cell_type": "code",
   "execution_count": null,
   "metadata": {},
   "outputs": [],
   "source": [
    "# Folders\n",
    "folders = '0123456789abcdef'\n",
    "\n",
    "# Random seed\n",
    "random_state=0\n",
    "\n",
    "# Parameters\n",
    "epochs = 1000\n",
    "batch_size = 128\n",
    "lr=1e-3\n",
    "name=f'gsk'\n",
    "new_shape=[128, 128]\n",
    "\n",
    "# Optimizer\n",
    "optimizer = Adam(learning_rate=lr)"
   ]
  },
  {
   "cell_type": "code",
   "execution_count": null,
   "metadata": {},
   "outputs": [],
   "source": [
    "# # Model \n",
    "# model = get_model(max_len, vocab)\n",
    "# model.compile(optimizer=optimizer, loss=loss_function)\n",
    "# model.summary()"
   ]
  },
  {
   "cell_type": "markdown",
   "metadata": {},
   "source": []
  },
  {
   "cell_type": "code",
   "execution_count": null,
   "metadata": {},
   "outputs": [],
   "source": [
    "import time"
   ]
  },
  {
   "cell_type": "code",
   "execution_count": null,
   "metadata": {},
   "outputs": [],
   "source": [
    "t = time.time()\n",
    "# Images data \n",
    "dataset = 'train'\n",
    "\n",
    "i = folders[0]\n",
    "j = folders[0]\n",
    "k = folders[0]\n",
    "\n",
    "print(f\"### {i} - {j} - {k} ###\")\n",
    "\n",
    "path = f'bms-molecular-translation/{dataset}/{i}/{j}/{k}/'\n",
    "\n",
    "# Files\n",
    "list_names = os.listdir(path)\n",
    "list_path = [path]*len(list_names)\n",
    "\n",
    "# Image data\n",
    "ImageSet = ImageSetObject(list_names, list_path)\n",
    "ImageSet.prepare_data(new_shape, filtering=False, adjust=True)\n",
    "data = ImageSet.X\n",
    "\n",
    "t = time.time() - t\n",
    "print(t)"
   ]
  },
  {
   "cell_type": "code",
   "execution_count": null,
   "metadata": {},
   "outputs": [],
   "source": [
    "# Train"
   ]
  },
  {
   "cell_type": "code",
   "execution_count": null,
   "metadata": {},
   "outputs": [],
   "source": [
    "# Images data \n",
    "dataset = 'train'\n",
    "\n",
    "i = folders[0]\n",
    "j = folders[0]\n",
    "k = folders[0]\n",
    "\n",
    "# for i in folders[0:1]:\n",
    "#     for j in folders[0:1]:\n",
    "#         for k in folders[1:2]:\n",
    "\n",
    "print(f\"### {i} - {j} - {k} ###\")\n",
    "\n",
    "path = f'bms-molecular-translation/{dataset}/{i}/{j}/{k}/'\n",
    "\n",
    "for e in range(1):\n",
    "    \n",
    "    print(f\"# Epoch: {e}\")\n",
    "    \n",
    "    score_list = []\n",
    "\n",
    "    # Files\n",
    "    list_names = os.listdir(path)\n",
    "    list_path = [path]*len(list_names)\n",
    "\n",
    "    # Image data\n",
    "    ImageSet = ImageSetObject(list_names, list_path)\n",
    "    ImageSet.prepare_data(new_shape, filtering=False, adjust=True)\n",
    "    data = ImageSet.X\n",
    "\n",
    "    # Text targets\n",
    "    list_id = [x.split('.')[0] for x in ImageSet.list_names]\n",
    "    targets = train_labels.loc[list_id, 'InChI'].values\n",
    "    targets = [[char2idx[x] for x in target] for target in targets]\n",
    "    targets = pad_sequences(targets, padding='post', maxlen=max_len)\n",
    "\n",
    "    # Train\n",
    "    history = model.fit(data, targets, epochs=epochs, batch_size=batch_size, verbose=1)\n",
    "    model.save_weights(f'outputs/{name}.h5')\n",
    "\n",
    "    # Score \n",
    "    y_true=[''.join([idx2char[int(y)] for y in yy]) for yy in targets]\n",
    "    y_predict=get_text_from_predict(model, data, idx2char)\n",
    "    score_list.append(score(y_true, y_predict))\n",
    "    print(f\"\\t> Score: {np.mean(score_list)}\")"
   ]
  },
  {
   "cell_type": "code",
   "execution_count": null,
   "metadata": {},
   "outputs": [],
   "source": [
    "# Train score\n",
    "y_true=[''.join([idx2char[int(y)] for y in yy]) for yy in targets]\n",
    "y_predict=get_text_from_predict(model, data, idx2char)\n",
    "score(y_true, y_predict)"
   ]
  },
  {
   "cell_type": "markdown",
   "metadata": {},
   "source": [
    "# Validation"
   ]
  },
  {
   "cell_type": "code",
   "execution_count": null,
   "metadata": {},
   "outputs": [],
   "source": [
    "# Images data \n",
    "dataset = 'train'\n",
    "\n",
    "i = folders[5]\n",
    "j = folders[5]\n",
    "k = folders[5]\n",
    "\n",
    "print(f\"### {i} - {j} - {k} ###\")\n",
    "\n",
    "path = f'bms-molecular-translation/{dataset}/{i}/{j}/{k}/'"
   ]
  },
  {
   "cell_type": "code",
   "execution_count": null,
   "metadata": {},
   "outputs": [],
   "source": [
    "# Files\n",
    "list_names = os.listdir(path)\n",
    "list_path = [path]*len(list_names)\n",
    "\n",
    "# Image data\n",
    "ImageSet = ImageSetObject(list_names, list_path)\n",
    "ImageSet.prepare_data(new_shape, filtering=False, adjust=True)\n",
    "data_validation = ImageSet.X\n",
    "\n",
    "# Text targets\n",
    "list_id = [x.split('.')[0] for x in ImageSet.list_names]\n",
    "targets = train_labels.loc[list_id, 'InChI'].values\n",
    "targets = [[char2idx[x] for x in target] for target in targets]\n",
    "targets = pad_sequences(targets, padding='post', maxlen=max_len)"
   ]
  },
  {
   "cell_type": "code",
   "execution_count": null,
   "metadata": {},
   "outputs": [],
   "source": [
    "# Predict\n",
    "y_val_true=[''.join([idx2char[int(y)] for y in yy]) for yy in targets_validation]\n",
    "y_val_predict=get_text_from_predict(model, data_validation, idx2char)\n",
    "score(y_val_true, y_val_predict)"
   ]
  },
  {
   "cell_type": "markdown",
   "metadata": {},
   "source": [
    "# Submission"
   ]
  },
  {
   "cell_type": "code",
   "execution_count": null,
   "metadata": {},
   "outputs": [],
   "source": [
    "# Load weights\n",
    "model.load_weights(f'outputs/{name}.h5')\n",
    "print(\"Loaded model from disk\")\n",
    "model.compile(optimizer=optimizer, loss=loss_function)"
   ]
  },
  {
   "cell_type": "code",
   "execution_count": null,
   "metadata": {},
   "outputs": [],
   "source": [
    "# sample_submission\n",
    "sample_submission = pd.read_csv(\"bms-molecular-translation/sample_submission.csv\")\n",
    "sample_submission = sample_submission.set_index('image_id')"
   ]
  },
  {
   "cell_type": "code",
   "execution_count": null,
   "metadata": {},
   "outputs": [],
   "source": [
    "# Images data \n",
    "dataset = 'test'\n",
    "\n",
    "# i = folders[5]\n",
    "# j = folders[5]\n",
    "# k = folders[5]\n",
    "\n",
    "for i in folders[0:1]:\n",
    "    for j in folders[0:1]:\n",
    "        for k in tqdm(folders):\n",
    "\n",
    "            path = f'bms-molecular-translation/{dataset}/{i}/{j}/{k}/'\n",
    "\n",
    "            # Files\n",
    "            list_names = os.listdir(path)\n",
    "            list_path = [path]*len(list_names)\n",
    "\n",
    "            # Image data\n",
    "            ImageSet = ImageSetObject(list_names, list_path)\n",
    "            ImageSet.prepare_data(new_shape, filtering=False, adjust=True)\n",
    "            data_test = ImageSet.X\n",
    "\n",
    "            # Text targets\n",
    "            list_id = [x.split('.')[0] for x in ImageSet.list_names]\n",
    "\n",
    "            # Predict\n",
    "            y_test_predict=get_text_from_predict(model, data_test, idx2char)\n",
    "            y_test_predict=['InChI='+x for x in y_test_predict]\n",
    "\n",
    "            df_y_test_predict = pd.DataFrame([list_id, y_test_predict], index = ['image_id','InChI']).transpose().set_index('image_id')\n",
    "\n",
    "            sample_submission.loc[df_y_test_predict.index, 'InChI'] = df_y_test_predict['InChI']"
   ]
  },
  {
   "cell_type": "code",
   "execution_count": null,
   "metadata": {},
   "outputs": [],
   "source": [
    "# Export\n",
    "sample_submission.reset_index().to_csv('outputs/submission.csv', index=False)"
   ]
  },
  {
   "cell_type": "code",
   "execution_count": null,
   "metadata": {},
   "outputs": [],
   "source": [
    "sample_submission"
   ]
  }
 ],
 "metadata": {
  "kernelspec": {
   "display_name": "Python 3",
   "language": "python",
   "name": "python3"
  },
  "language_info": {
   "codemirror_mode": {
    "name": "ipython",
    "version": 3
   },
   "file_extension": ".py",
   "mimetype": "text/x-python",
   "name": "python",
   "nbconvert_exporter": "python",
   "pygments_lexer": "ipython3",
   "version": "3.7.9"
  }
 },
 "nbformat": 4,
 "nbformat_minor": 2
}
