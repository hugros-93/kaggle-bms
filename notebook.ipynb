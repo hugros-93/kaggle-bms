{
 "cells": [
  {
   "cell_type": "code",
   "execution_count": 1,
   "metadata": {},
   "outputs": [],
   "source": [
    "import os\n",
    "import numpy as np\n",
    "import pandas as pd\n",
    "from tqdm import tqdm\n",
    "import random\n",
    "from tensorflow.keras.optimizers import Adam\n",
    "from tensorflow.keras.callbacks import EarlyStopping, ModelCheckpoint\n",
    "from tensorflow.keras.preprocessing.sequence import pad_sequences\n",
    "from sklearn.utils import shuffle\n",
    "\n",
    "\n",
    "import plotly.graph_objects as go\n",
    "from tensorflow.keras import Sequential\n",
    "from tensorflow.keras.layers import InputLayer, Dense, RepeatVector, Reshape, Flatten, TimeDistributed, Conv2D, MaxPool2D, Conv1DTranspose, LSTM, RepeatVector, Dropout\n",
    "\n",
    "\n",
    "import plotly.graph_objects as go\n",
    "import plotly.express as px\n",
    "from plotly.subplots import make_subplots\n",
    "\n",
    "from target import TargetSet\n",
    "from image import ImageSetObject, show_image\n",
    "from model import VAE, loss_function, get_text_from_predict, score"
   ]
  },
  {
   "cell_type": "code",
   "execution_count": 2,
   "metadata": {},
   "outputs": [],
   "source": [
    "def get_predictive_network(max_len, vocab_size):\n",
    "    predictive_network = Sequential(\n",
    "    [\n",
    "        Conv2D(filters=32, kernel_size=5,\n",
    "               strides=(1, 1), activation='relu'),\n",
    "        MaxPool2D(),\n",
    "        Conv2D(filters=64, kernel_size=5,\n",
    "               strides=(1, 1), activation='relu'),\n",
    "        MaxPool2D(),\n",
    "        Flatten(),\n",
    "        RepeatVector(max_len),\n",
    "        LSTM(8, return_sequences=True),\n",
    "        TimeDistributed(Dense(vocab_size))\n",
    "    ])\n",
    "    return predictive_network"
   ]
  },
  {
   "cell_type": "markdown",
   "metadata": {},
   "source": [
    "# Load target file"
   ]
  },
  {
   "cell_type": "code",
   "execution_count": 3,
   "metadata": {},
   "outputs": [],
   "source": [
    "TargetBMS = TargetSet()"
   ]
  },
  {
   "cell_type": "markdown",
   "metadata": {},
   "source": [
    "# Load image data"
   ]
  },
  {
   "cell_type": "code",
   "execution_count": 4,
   "metadata": {},
   "outputs": [],
   "source": [
    "# Folders\n",
    "folders = '0123456789abcdef'\n",
    "\n",
    "# Random seed\n",
    "random_state=0\n",
    "\n",
    "# Parameters\n",
    "new_shape=[32, 32]"
   ]
  },
  {
   "cell_type": "code",
   "execution_count": 22,
   "metadata": {},
   "outputs": [
    {
     "name": "stderr",
     "output_type": "stream",
     "text": [
      "100%|█████████████████████████████████████████████| 16/16 [00:12<00:00,  1.25it/s]\n"
     ]
    }
   ],
   "source": [
    "# Images data \n",
    "dataset = 'train'\n",
    "i = folders[0]\n",
    "j = folders[0]\n",
    "\n",
    "list_data = []\n",
    "list_id = []\n",
    "\n",
    "for k in tqdm(folders):\n",
    "\n",
    "    path = f'bms-molecular-translation/{dataset}/{i}/{j}/{k}/'\n",
    "\n",
    "    # Files\n",
    "    list_names = os.listdir(path)\n",
    "    list_path = [path]*len(list_names)\n",
    "\n",
    "    # Image data\n",
    "    ImageSet = ImageSetObject(list_names, list_path)\n",
    "    ImageSet.prepare_data(new_shape, filtering=False, adjust=False)\n",
    "    data = ImageSet.X\n",
    "    list_data.append(data)\n",
    "    list_id.append([x.split('.')[0] for x in ImageSet.list_names])\n",
    "\n",
    "# Select data\n",
    "data = np.concatenate(list_data)\n",
    "list_id = np.concatenate(list_id)"
   ]
  },
  {
   "cell_type": "code",
   "execution_count": 9,
   "metadata": {},
   "outputs": [
    {
     "data": {
      "application/vnd.plotly.v1+json": {
       "config": {
        "plotlyServerURL": "https://plot.ly"
       },
       "data": [
        {
         "hovertemplate": "x: %{x}<br>y: %{y}<extra></extra>",
         "name": "0",
         "source": "data:image/png;base64,iVBORw0KGgoAAAANSUhEUgAAACAAAAAgCAAAAABWESUoAAAARUlEQVR4XmNgGLbgPxKbCYlNGoCZQtCEwaCAgYEB5uL/UAolGKDgPwRDZaAq8QBsCmCaUUWRAE4Zgr6ggwJaApweH4oAAK78EQSwoOFQAAAAAElFTkSuQmCC",
         "type": "image",
         "xaxis": "x",
         "yaxis": "y"
        },
        {
         "hovertemplate": "x: %{x}<br>y: %{y}<extra></extra>",
         "name": "0",
         "source": "data:image/png;base64,iVBORw0KGgoAAAANSUhEUgAAACAAAAAgCAAAAABWESUoAAAAT0lEQVR4Xt2QOw4AIAhDG+9/5zpoDIgQf4u+ibSlJAC/wl5Y5rxBVSQxAwDjC9XzI8qZjEnYTjDIXGNQZSQjFBwZxtEvddYcOWTcutP0GBllJRvnu/bbpAAAAABJRU5ErkJggg==",
         "type": "image",
         "xaxis": "x2",
         "yaxis": "y2"
        },
        {
         "hovertemplate": "x: %{x}<br>y: %{y}<extra></extra>",
         "name": "0",
         "source": "data:image/png;base64,iVBORw0KGgoAAAANSUhEUgAAACAAAAAgCAAAAABWESUoAAAAQUlEQVR4XmNgGKTgP7oABiCsgoFIRbgBhdoHPcDwHxMS+z8WeTRASJ4EQKJRcOWk6SNNNTaA1wS8ksQBKhhBRQAA+NgO9GwFKHMAAAAASUVORK5CYII=",
         "type": "image",
         "xaxis": "x3",
         "yaxis": "y3"
        },
        {
         "hovertemplate": "x: %{x}<br>y: %{y}<extra></extra>",
         "name": "0",
         "source": "data:image/png;base64,iVBORw0KGgoAAAANSUhEUgAAACAAAAAgCAAAAABWESUoAAAAWUlEQVR4XtWQQQ7AIAzDvP3/z9mFdSMF0SNYAqkmBVQ4C8nNdtgPlUyJWk8p1ULLrIDbJWrLbFaG+shXXIBiC/SeTVg+6AwaBqonAnkOwOyCn5XVxnpsm/EA5Aoe6ue6ofYAAAAASUVORK5CYII=",
         "type": "image",
         "xaxis": "x4",
         "yaxis": "y4"
        },
        {
         "hovertemplate": "x: %{x}<br>y: %{y}<extra></extra>",
         "name": "0",
         "source": "data:image/png;base64,iVBORw0KGgoAAAANSUhEUgAAACAAAAAgCAAAAABWESUoAAAAUElEQVR4XuWOyxYAEAhE4///eSxKaMSxdjdO8yginwN96qoy14BjG4l8Q9aIlGVCFB7gi5OCPnJqcPJEyI9xv+HzvnD+B6yHNKNyYnYu9s80+DMa7g/Os64AAAAASUVORK5CYII=",
         "type": "image",
         "xaxis": "x5",
         "yaxis": "y5"
        },
        {
         "hovertemplate": "x: %{x}<br>y: %{y}<extra></extra>",
         "name": "0",
         "source": "data:image/png;base64,iVBORw0KGgoAAAANSUhEUgAAACAAAAAgCAAAAABWESUoAAAAQ0lEQVR4XmNgGF7gP7oABDChC6ADggpwgv//cVk6YADinv9IzP9wJhQgOXpQuB+PE/7jkRtMAM2ZyCmKGB8Qo4b+AACGDBPzChE2igAAAABJRU5ErkJggg==",
         "type": "image",
         "xaxis": "x6",
         "yaxis": "y6"
        },
        {
         "hovertemplate": "x: %{x}<br>y: %{y}<extra></extra>",
         "name": "0",
         "source": "data:image/png;base64,iVBORw0KGgoAAAANSUhEUgAAACAAAAAgCAAAAABWESUoAAAAR0lEQVR4XmNgGKrgPxKbCYmNFVCugEzwH9WhMIAu9h9dYGABkmsgTNzu+w8nMDzFwMCAV4q2gLCV//F4CwoIyRMPqGcSXQEAEq0U8pXHDHoAAAAASUVORK5CYII=",
         "type": "image",
         "xaxis": "x7",
         "yaxis": "y7"
        },
        {
         "hovertemplate": "x: %{x}<br>y: %{y}<extra></extra>",
         "name": "0",
         "source": "data:image/png;base64,iVBORw0KGgoAAAANSUhEUgAAACAAAAAgCAAAAABWESUoAAAAYUlEQVR4XuWQSxLAIAhDY+9/Z1wURD5x3Hb6Fg4mGUSAPyH04qjsrpCgwwPV2fpm5bFCGUDXAWCqcXZf6jcB6JuArCqUVlwgd2PsWD7vgSDrCFQlEQMkrjO0bisW6ia/yASCoh7vDTz/fAAAAABJRU5ErkJggg==",
         "type": "image",
         "xaxis": "x8",
         "yaxis": "y8"
        }
       ],
       "layout": {
        "coloraxis": {
         "showscale": false
        },
        "height": 100,
        "margin": {
         "b": 0,
         "l": 0,
         "r": 0,
         "t": 0
        },
        "template": {
         "data": {
          "bar": [
           {
            "error_x": {
             "color": "#2a3f5f"
            },
            "error_y": {
             "color": "#2a3f5f"
            },
            "marker": {
             "line": {
              "color": "#E5ECF6",
              "width": 0.5
             }
            },
            "type": "bar"
           }
          ],
          "barpolar": [
           {
            "marker": {
             "line": {
              "color": "#E5ECF6",
              "width": 0.5
             }
            },
            "type": "barpolar"
           }
          ],
          "carpet": [
           {
            "aaxis": {
             "endlinecolor": "#2a3f5f",
             "gridcolor": "white",
             "linecolor": "white",
             "minorgridcolor": "white",
             "startlinecolor": "#2a3f5f"
            },
            "baxis": {
             "endlinecolor": "#2a3f5f",
             "gridcolor": "white",
             "linecolor": "white",
             "minorgridcolor": "white",
             "startlinecolor": "#2a3f5f"
            },
            "type": "carpet"
           }
          ],
          "choropleth": [
           {
            "colorbar": {
             "outlinewidth": 0,
             "ticks": ""
            },
            "type": "choropleth"
           }
          ],
          "contour": [
           {
            "colorbar": {
             "outlinewidth": 0,
             "ticks": ""
            },
            "colorscale": [
             [
              0,
              "#0d0887"
             ],
             [
              0.1111111111111111,
              "#46039f"
             ],
             [
              0.2222222222222222,
              "#7201a8"
             ],
             [
              0.3333333333333333,
              "#9c179e"
             ],
             [
              0.4444444444444444,
              "#bd3786"
             ],
             [
              0.5555555555555556,
              "#d8576b"
             ],
             [
              0.6666666666666666,
              "#ed7953"
             ],
             [
              0.7777777777777778,
              "#fb9f3a"
             ],
             [
              0.8888888888888888,
              "#fdca26"
             ],
             [
              1,
              "#f0f921"
             ]
            ],
            "type": "contour"
           }
          ],
          "contourcarpet": [
           {
            "colorbar": {
             "outlinewidth": 0,
             "ticks": ""
            },
            "type": "contourcarpet"
           }
          ],
          "heatmap": [
           {
            "colorbar": {
             "outlinewidth": 0,
             "ticks": ""
            },
            "colorscale": [
             [
              0,
              "#0d0887"
             ],
             [
              0.1111111111111111,
              "#46039f"
             ],
             [
              0.2222222222222222,
              "#7201a8"
             ],
             [
              0.3333333333333333,
              "#9c179e"
             ],
             [
              0.4444444444444444,
              "#bd3786"
             ],
             [
              0.5555555555555556,
              "#d8576b"
             ],
             [
              0.6666666666666666,
              "#ed7953"
             ],
             [
              0.7777777777777778,
              "#fb9f3a"
             ],
             [
              0.8888888888888888,
              "#fdca26"
             ],
             [
              1,
              "#f0f921"
             ]
            ],
            "type": "heatmap"
           }
          ],
          "heatmapgl": [
           {
            "colorbar": {
             "outlinewidth": 0,
             "ticks": ""
            },
            "colorscale": [
             [
              0,
              "#0d0887"
             ],
             [
              0.1111111111111111,
              "#46039f"
             ],
             [
              0.2222222222222222,
              "#7201a8"
             ],
             [
              0.3333333333333333,
              "#9c179e"
             ],
             [
              0.4444444444444444,
              "#bd3786"
             ],
             [
              0.5555555555555556,
              "#d8576b"
             ],
             [
              0.6666666666666666,
              "#ed7953"
             ],
             [
              0.7777777777777778,
              "#fb9f3a"
             ],
             [
              0.8888888888888888,
              "#fdca26"
             ],
             [
              1,
              "#f0f921"
             ]
            ],
            "type": "heatmapgl"
           }
          ],
          "histogram": [
           {
            "marker": {
             "colorbar": {
              "outlinewidth": 0,
              "ticks": ""
             }
            },
            "type": "histogram"
           }
          ],
          "histogram2d": [
           {
            "colorbar": {
             "outlinewidth": 0,
             "ticks": ""
            },
            "colorscale": [
             [
              0,
              "#0d0887"
             ],
             [
              0.1111111111111111,
              "#46039f"
             ],
             [
              0.2222222222222222,
              "#7201a8"
             ],
             [
              0.3333333333333333,
              "#9c179e"
             ],
             [
              0.4444444444444444,
              "#bd3786"
             ],
             [
              0.5555555555555556,
              "#d8576b"
             ],
             [
              0.6666666666666666,
              "#ed7953"
             ],
             [
              0.7777777777777778,
              "#fb9f3a"
             ],
             [
              0.8888888888888888,
              "#fdca26"
             ],
             [
              1,
              "#f0f921"
             ]
            ],
            "type": "histogram2d"
           }
          ],
          "histogram2dcontour": [
           {
            "colorbar": {
             "outlinewidth": 0,
             "ticks": ""
            },
            "colorscale": [
             [
              0,
              "#0d0887"
             ],
             [
              0.1111111111111111,
              "#46039f"
             ],
             [
              0.2222222222222222,
              "#7201a8"
             ],
             [
              0.3333333333333333,
              "#9c179e"
             ],
             [
              0.4444444444444444,
              "#bd3786"
             ],
             [
              0.5555555555555556,
              "#d8576b"
             ],
             [
              0.6666666666666666,
              "#ed7953"
             ],
             [
              0.7777777777777778,
              "#fb9f3a"
             ],
             [
              0.8888888888888888,
              "#fdca26"
             ],
             [
              1,
              "#f0f921"
             ]
            ],
            "type": "histogram2dcontour"
           }
          ],
          "mesh3d": [
           {
            "colorbar": {
             "outlinewidth": 0,
             "ticks": ""
            },
            "type": "mesh3d"
           }
          ],
          "parcoords": [
           {
            "line": {
             "colorbar": {
              "outlinewidth": 0,
              "ticks": ""
             }
            },
            "type": "parcoords"
           }
          ],
          "pie": [
           {
            "automargin": true,
            "type": "pie"
           }
          ],
          "scatter": [
           {
            "marker": {
             "colorbar": {
              "outlinewidth": 0,
              "ticks": ""
             }
            },
            "type": "scatter"
           }
          ],
          "scatter3d": [
           {
            "line": {
             "colorbar": {
              "outlinewidth": 0,
              "ticks": ""
             }
            },
            "marker": {
             "colorbar": {
              "outlinewidth": 0,
              "ticks": ""
             }
            },
            "type": "scatter3d"
           }
          ],
          "scattercarpet": [
           {
            "marker": {
             "colorbar": {
              "outlinewidth": 0,
              "ticks": ""
             }
            },
            "type": "scattercarpet"
           }
          ],
          "scattergeo": [
           {
            "marker": {
             "colorbar": {
              "outlinewidth": 0,
              "ticks": ""
             }
            },
            "type": "scattergeo"
           }
          ],
          "scattergl": [
           {
            "marker": {
             "colorbar": {
              "outlinewidth": 0,
              "ticks": ""
             }
            },
            "type": "scattergl"
           }
          ],
          "scattermapbox": [
           {
            "marker": {
             "colorbar": {
              "outlinewidth": 0,
              "ticks": ""
             }
            },
            "type": "scattermapbox"
           }
          ],
          "scatterpolar": [
           {
            "marker": {
             "colorbar": {
              "outlinewidth": 0,
              "ticks": ""
             }
            },
            "type": "scatterpolar"
           }
          ],
          "scatterpolargl": [
           {
            "marker": {
             "colorbar": {
              "outlinewidth": 0,
              "ticks": ""
             }
            },
            "type": "scatterpolargl"
           }
          ],
          "scatterternary": [
           {
            "marker": {
             "colorbar": {
              "outlinewidth": 0,
              "ticks": ""
             }
            },
            "type": "scatterternary"
           }
          ],
          "surface": [
           {
            "colorbar": {
             "outlinewidth": 0,
             "ticks": ""
            },
            "colorscale": [
             [
              0,
              "#0d0887"
             ],
             [
              0.1111111111111111,
              "#46039f"
             ],
             [
              0.2222222222222222,
              "#7201a8"
             ],
             [
              0.3333333333333333,
              "#9c179e"
             ],
             [
              0.4444444444444444,
              "#bd3786"
             ],
             [
              0.5555555555555556,
              "#d8576b"
             ],
             [
              0.6666666666666666,
              "#ed7953"
             ],
             [
              0.7777777777777778,
              "#fb9f3a"
             ],
             [
              0.8888888888888888,
              "#fdca26"
             ],
             [
              1,
              "#f0f921"
             ]
            ],
            "type": "surface"
           }
          ],
          "table": [
           {
            "cells": {
             "fill": {
              "color": "#EBF0F8"
             },
             "line": {
              "color": "white"
             }
            },
            "header": {
             "fill": {
              "color": "#C8D4E3"
             },
             "line": {
              "color": "white"
             }
            },
            "type": "table"
           }
          ]
         },
         "layout": {
          "annotationdefaults": {
           "arrowcolor": "#2a3f5f",
           "arrowhead": 0,
           "arrowwidth": 1
          },
          "autotypenumbers": "strict",
          "coloraxis": {
           "colorbar": {
            "outlinewidth": 0,
            "ticks": ""
           }
          },
          "colorscale": {
           "diverging": [
            [
             0,
             "#8e0152"
            ],
            [
             0.1,
             "#c51b7d"
            ],
            [
             0.2,
             "#de77ae"
            ],
            [
             0.3,
             "#f1b6da"
            ],
            [
             0.4,
             "#fde0ef"
            ],
            [
             0.5,
             "#f7f7f7"
            ],
            [
             0.6,
             "#e6f5d0"
            ],
            [
             0.7,
             "#b8e186"
            ],
            [
             0.8,
             "#7fbc41"
            ],
            [
             0.9,
             "#4d9221"
            ],
            [
             1,
             "#276419"
            ]
           ],
           "sequential": [
            [
             0,
             "#0d0887"
            ],
            [
             0.1111111111111111,
             "#46039f"
            ],
            [
             0.2222222222222222,
             "#7201a8"
            ],
            [
             0.3333333333333333,
             "#9c179e"
            ],
            [
             0.4444444444444444,
             "#bd3786"
            ],
            [
             0.5555555555555556,
             "#d8576b"
            ],
            [
             0.6666666666666666,
             "#ed7953"
            ],
            [
             0.7777777777777778,
             "#fb9f3a"
            ],
            [
             0.8888888888888888,
             "#fdca26"
            ],
            [
             1,
             "#f0f921"
            ]
           ],
           "sequentialminus": [
            [
             0,
             "#0d0887"
            ],
            [
             0.1111111111111111,
             "#46039f"
            ],
            [
             0.2222222222222222,
             "#7201a8"
            ],
            [
             0.3333333333333333,
             "#9c179e"
            ],
            [
             0.4444444444444444,
             "#bd3786"
            ],
            [
             0.5555555555555556,
             "#d8576b"
            ],
            [
             0.6666666666666666,
             "#ed7953"
            ],
            [
             0.7777777777777778,
             "#fb9f3a"
            ],
            [
             0.8888888888888888,
             "#fdca26"
            ],
            [
             1,
             "#f0f921"
            ]
           ]
          },
          "colorway": [
           "#636efa",
           "#EF553B",
           "#00cc96",
           "#ab63fa",
           "#FFA15A",
           "#19d3f3",
           "#FF6692",
           "#B6E880",
           "#FF97FF",
           "#FECB52"
          ],
          "font": {
           "color": "#2a3f5f"
          },
          "geo": {
           "bgcolor": "white",
           "lakecolor": "white",
           "landcolor": "#E5ECF6",
           "showlakes": true,
           "showland": true,
           "subunitcolor": "white"
          },
          "hoverlabel": {
           "align": "left"
          },
          "hovermode": "closest",
          "mapbox": {
           "style": "light"
          },
          "paper_bgcolor": "white",
          "plot_bgcolor": "#E5ECF6",
          "polar": {
           "angularaxis": {
            "gridcolor": "white",
            "linecolor": "white",
            "ticks": ""
           },
           "bgcolor": "#E5ECF6",
           "radialaxis": {
            "gridcolor": "white",
            "linecolor": "white",
            "ticks": ""
           }
          },
          "scene": {
           "xaxis": {
            "backgroundcolor": "#E5ECF6",
            "gridcolor": "white",
            "gridwidth": 2,
            "linecolor": "white",
            "showbackground": true,
            "ticks": "",
            "zerolinecolor": "white"
           },
           "yaxis": {
            "backgroundcolor": "#E5ECF6",
            "gridcolor": "white",
            "gridwidth": 2,
            "linecolor": "white",
            "showbackground": true,
            "ticks": "",
            "zerolinecolor": "white"
           },
           "zaxis": {
            "backgroundcolor": "#E5ECF6",
            "gridcolor": "white",
            "gridwidth": 2,
            "linecolor": "white",
            "showbackground": true,
            "ticks": "",
            "zerolinecolor": "white"
           }
          },
          "shapedefaults": {
           "line": {
            "color": "#2a3f5f"
           }
          },
          "ternary": {
           "aaxis": {
            "gridcolor": "white",
            "linecolor": "white",
            "ticks": ""
           },
           "baxis": {
            "gridcolor": "white",
            "linecolor": "white",
            "ticks": ""
           },
           "bgcolor": "#E5ECF6",
           "caxis": {
            "gridcolor": "white",
            "linecolor": "white",
            "ticks": ""
           }
          },
          "title": {
           "x": 0.05
          },
          "xaxis": {
           "automargin": true,
           "gridcolor": "white",
           "linecolor": "white",
           "ticks": "",
           "title": {
            "standoff": 15
           },
           "zerolinecolor": "white",
           "zerolinewidth": 2
          },
          "yaxis": {
           "automargin": true,
           "gridcolor": "white",
           "linecolor": "white",
           "ticks": "",
           "title": {
            "standoff": 15
           },
           "zerolinecolor": "white",
           "zerolinewidth": 2
          }
         }
        },
        "xaxis": {
         "anchor": "y",
         "domain": [
          0,
          0.103125
         ],
         "showticklabels": false
        },
        "xaxis2": {
         "anchor": "y2",
         "domain": [
          0.128125,
          0.23124999999999998
         ],
         "showticklabels": false
        },
        "xaxis3": {
         "anchor": "y3",
         "domain": [
          0.25625,
          0.359375
         ],
         "showticklabels": false
        },
        "xaxis4": {
         "anchor": "y4",
         "domain": [
          0.38437499999999997,
          0.48749999999999993
         ],
         "showticklabels": false
        },
        "xaxis5": {
         "anchor": "y5",
         "domain": [
          0.5125,
          0.615625
         ],
         "showticklabels": false
        },
        "xaxis6": {
         "anchor": "y6",
         "domain": [
          0.640625,
          0.74375
         ],
         "showticklabels": false
        },
        "xaxis7": {
         "anchor": "y7",
         "domain": [
          0.76875,
          0.8718750000000001
         ],
         "showticklabels": false
        },
        "xaxis8": {
         "anchor": "y8",
         "domain": [
          0.8968750000000001,
          1
         ],
         "showticklabels": false
        },
        "yaxis": {
         "anchor": "x",
         "domain": [
          0,
          1
         ],
         "showticklabels": false
        },
        "yaxis2": {
         "anchor": "x2",
         "domain": [
          0,
          1
         ],
         "showticklabels": false
        },
        "yaxis3": {
         "anchor": "x3",
         "domain": [
          0,
          1
         ],
         "showticklabels": false
        },
        "yaxis4": {
         "anchor": "x4",
         "domain": [
          0,
          1
         ],
         "showticklabels": false
        },
        "yaxis5": {
         "anchor": "x5",
         "domain": [
          0,
          1
         ],
         "showticklabels": false
        },
        "yaxis6": {
         "anchor": "x6",
         "domain": [
          0,
          1
         ],
         "showticklabels": false
        },
        "yaxis7": {
         "anchor": "x7",
         "domain": [
          0,
          1
         ],
         "showticklabels": false
        },
        "yaxis8": {
         "anchor": "x8",
         "domain": [
          0,
          1
         ],
         "showticklabels": false
        }
       }
      },
      "text/html": [
       "<div>                            <div id=\"81ee9f1d-7c01-4f4e-ba25-a71421ce7f4a\" class=\"plotly-graph-div\" style=\"height:100px; width:100%;\"></div>            <script type=\"text/javascript\">                require([\"plotly\"], function(Plotly) {                    window.PLOTLYENV=window.PLOTLYENV || {};                                    if (document.getElementById(\"81ee9f1d-7c01-4f4e-ba25-a71421ce7f4a\")) {                    Plotly.newPlot(                        \"81ee9f1d-7c01-4f4e-ba25-a71421ce7f4a\",                        [{\"hovertemplate\": \"x: %{x}<br>y: %{y}<extra></extra>\", \"name\": \"0\", \"source\": \"data:image/png;base64,iVBORw0KGgoAAAANSUhEUgAAACAAAAAgCAAAAABWESUoAAAARUlEQVR4XmNgGLbgPxKbCYlNGoCZQtCEwaCAgYEB5uL/UAolGKDgPwRDZaAq8QBsCmCaUUWRAE4Zgr6ggwJaApweH4oAAK78EQSwoOFQAAAAAElFTkSuQmCC\", \"type\": \"image\", \"xaxis\": \"x\", \"yaxis\": \"y\"}, {\"hovertemplate\": \"x: %{x}<br>y: %{y}<extra></extra>\", \"name\": \"0\", \"source\": \"data:image/png;base64,iVBORw0KGgoAAAANSUhEUgAAACAAAAAgCAAAAABWESUoAAAAT0lEQVR4Xt2QOw4AIAhDG+9/5zpoDIgQf4u+ibSlJAC/wl5Y5rxBVSQxAwDjC9XzI8qZjEnYTjDIXGNQZSQjFBwZxtEvddYcOWTcutP0GBllJRvnu/bbpAAAAABJRU5ErkJggg==\", \"type\": \"image\", \"xaxis\": \"x2\", \"yaxis\": \"y2\"}, {\"hovertemplate\": \"x: %{x}<br>y: %{y}<extra></extra>\", \"name\": \"0\", \"source\": \"data:image/png;base64,iVBORw0KGgoAAAANSUhEUgAAACAAAAAgCAAAAABWESUoAAAAQUlEQVR4XmNgGKTgP7oABiCsgoFIRbgBhdoHPcDwHxMS+z8WeTRASJ4EQKJRcOWk6SNNNTaA1wS8ksQBKhhBRQAA+NgO9GwFKHMAAAAASUVORK5CYII=\", \"type\": \"image\", \"xaxis\": \"x3\", \"yaxis\": \"y3\"}, {\"hovertemplate\": \"x: %{x}<br>y: %{y}<extra></extra>\", \"name\": \"0\", \"source\": \"data:image/png;base64,iVBORw0KGgoAAAANSUhEUgAAACAAAAAgCAAAAABWESUoAAAAWUlEQVR4XtWQQQ7AIAzDvP3/z9mFdSMF0SNYAqkmBVQ4C8nNdtgPlUyJWk8p1ULLrIDbJWrLbFaG+shXXIBiC/SeTVg+6AwaBqonAnkOwOyCn5XVxnpsm/EA5Aoe6ue6ofYAAAAASUVORK5CYII=\", \"type\": \"image\", \"xaxis\": \"x4\", \"yaxis\": \"y4\"}, {\"hovertemplate\": \"x: %{x}<br>y: %{y}<extra></extra>\", \"name\": \"0\", \"source\": \"data:image/png;base64,iVBORw0KGgoAAAANSUhEUgAAACAAAAAgCAAAAABWESUoAAAAUElEQVR4XuWOyxYAEAhE4///eSxKaMSxdjdO8yginwN96qoy14BjG4l8Q9aIlGVCFB7gi5OCPnJqcPJEyI9xv+HzvnD+B6yHNKNyYnYu9s80+DMa7g/Os64AAAAASUVORK5CYII=\", \"type\": \"image\", \"xaxis\": \"x5\", \"yaxis\": \"y5\"}, {\"hovertemplate\": \"x: %{x}<br>y: %{y}<extra></extra>\", \"name\": \"0\", \"source\": \"data:image/png;base64,iVBORw0KGgoAAAANSUhEUgAAACAAAAAgCAAAAABWESUoAAAAQ0lEQVR4XmNgGF7gP7oABDChC6ADggpwgv//cVk6YADinv9IzP9wJhQgOXpQuB+PE/7jkRtMAM2ZyCmKGB8Qo4b+AACGDBPzChE2igAAAABJRU5ErkJggg==\", \"type\": \"image\", \"xaxis\": \"x6\", \"yaxis\": \"y6\"}, {\"hovertemplate\": \"x: %{x}<br>y: %{y}<extra></extra>\", \"name\": \"0\", \"source\": \"data:image/png;base64,iVBORw0KGgoAAAANSUhEUgAAACAAAAAgCAAAAABWESUoAAAAR0lEQVR4XmNgGKrgPxKbCYmNFVCugEzwH9WhMIAu9h9dYGABkmsgTNzu+w8nMDzFwMCAV4q2gLCV//F4CwoIyRMPqGcSXQEAEq0U8pXHDHoAAAAASUVORK5CYII=\", \"type\": \"image\", \"xaxis\": \"x7\", \"yaxis\": \"y7\"}, {\"hovertemplate\": \"x: %{x}<br>y: %{y}<extra></extra>\", \"name\": \"0\", \"source\": \"data:image/png;base64,iVBORw0KGgoAAAANSUhEUgAAACAAAAAgCAAAAABWESUoAAAAYUlEQVR4XuWQSxLAIAhDY+9/Z1wURD5x3Hb6Fg4mGUSAPyH04qjsrpCgwwPV2fpm5bFCGUDXAWCqcXZf6jcB6JuArCqUVlwgd2PsWD7vgSDrCFQlEQMkrjO0bisW6ia/yASCoh7vDTz/fAAAAABJRU5ErkJggg==\", \"type\": \"image\", \"xaxis\": \"x8\", \"yaxis\": \"y8\"}],                        {\"coloraxis\": {\"showscale\": false}, \"height\": 100, \"margin\": {\"b\": 0, \"l\": 0, \"r\": 0, \"t\": 0}, \"template\": {\"data\": {\"bar\": [{\"error_x\": {\"color\": \"#2a3f5f\"}, \"error_y\": {\"color\": \"#2a3f5f\"}, \"marker\": {\"line\": {\"color\": \"#E5ECF6\", \"width\": 0.5}}, \"type\": \"bar\"}], \"barpolar\": [{\"marker\": {\"line\": {\"color\": \"#E5ECF6\", \"width\": 0.5}}, \"type\": \"barpolar\"}], \"carpet\": [{\"aaxis\": {\"endlinecolor\": \"#2a3f5f\", \"gridcolor\": \"white\", \"linecolor\": \"white\", \"minorgridcolor\": \"white\", \"startlinecolor\": \"#2a3f5f\"}, \"baxis\": {\"endlinecolor\": \"#2a3f5f\", \"gridcolor\": \"white\", \"linecolor\": \"white\", \"minorgridcolor\": \"white\", \"startlinecolor\": \"#2a3f5f\"}, \"type\": \"carpet\"}], \"choropleth\": [{\"colorbar\": {\"outlinewidth\": 0, \"ticks\": \"\"}, \"type\": \"choropleth\"}], \"contour\": [{\"colorbar\": {\"outlinewidth\": 0, \"ticks\": \"\"}, \"colorscale\": [[0.0, \"#0d0887\"], [0.1111111111111111, \"#46039f\"], [0.2222222222222222, \"#7201a8\"], [0.3333333333333333, \"#9c179e\"], [0.4444444444444444, \"#bd3786\"], [0.5555555555555556, \"#d8576b\"], [0.6666666666666666, \"#ed7953\"], [0.7777777777777778, \"#fb9f3a\"], [0.8888888888888888, \"#fdca26\"], [1.0, \"#f0f921\"]], \"type\": \"contour\"}], \"contourcarpet\": [{\"colorbar\": {\"outlinewidth\": 0, \"ticks\": \"\"}, \"type\": \"contourcarpet\"}], \"heatmap\": [{\"colorbar\": {\"outlinewidth\": 0, \"ticks\": \"\"}, \"colorscale\": [[0.0, \"#0d0887\"], [0.1111111111111111, \"#46039f\"], [0.2222222222222222, \"#7201a8\"], [0.3333333333333333, \"#9c179e\"], [0.4444444444444444, \"#bd3786\"], [0.5555555555555556, \"#d8576b\"], [0.6666666666666666, \"#ed7953\"], [0.7777777777777778, \"#fb9f3a\"], [0.8888888888888888, \"#fdca26\"], [1.0, \"#f0f921\"]], \"type\": \"heatmap\"}], \"heatmapgl\": [{\"colorbar\": {\"outlinewidth\": 0, \"ticks\": \"\"}, \"colorscale\": [[0.0, \"#0d0887\"], [0.1111111111111111, \"#46039f\"], [0.2222222222222222, \"#7201a8\"], [0.3333333333333333, \"#9c179e\"], [0.4444444444444444, \"#bd3786\"], [0.5555555555555556, \"#d8576b\"], [0.6666666666666666, \"#ed7953\"], [0.7777777777777778, \"#fb9f3a\"], [0.8888888888888888, \"#fdca26\"], [1.0, \"#f0f921\"]], \"type\": \"heatmapgl\"}], \"histogram\": [{\"marker\": {\"colorbar\": {\"outlinewidth\": 0, \"ticks\": \"\"}}, \"type\": \"histogram\"}], \"histogram2d\": [{\"colorbar\": {\"outlinewidth\": 0, \"ticks\": \"\"}, \"colorscale\": [[0.0, \"#0d0887\"], [0.1111111111111111, \"#46039f\"], [0.2222222222222222, \"#7201a8\"], [0.3333333333333333, \"#9c179e\"], [0.4444444444444444, \"#bd3786\"], [0.5555555555555556, \"#d8576b\"], [0.6666666666666666, \"#ed7953\"], [0.7777777777777778, \"#fb9f3a\"], [0.8888888888888888, \"#fdca26\"], [1.0, \"#f0f921\"]], \"type\": \"histogram2d\"}], \"histogram2dcontour\": [{\"colorbar\": {\"outlinewidth\": 0, \"ticks\": \"\"}, \"colorscale\": [[0.0, \"#0d0887\"], [0.1111111111111111, \"#46039f\"], [0.2222222222222222, \"#7201a8\"], [0.3333333333333333, \"#9c179e\"], [0.4444444444444444, \"#bd3786\"], [0.5555555555555556, \"#d8576b\"], [0.6666666666666666, \"#ed7953\"], [0.7777777777777778, \"#fb9f3a\"], [0.8888888888888888, \"#fdca26\"], [1.0, \"#f0f921\"]], \"type\": \"histogram2dcontour\"}], \"mesh3d\": [{\"colorbar\": {\"outlinewidth\": 0, \"ticks\": \"\"}, \"type\": \"mesh3d\"}], \"parcoords\": [{\"line\": {\"colorbar\": {\"outlinewidth\": 0, \"ticks\": \"\"}}, \"type\": \"parcoords\"}], \"pie\": [{\"automargin\": true, \"type\": \"pie\"}], \"scatter\": [{\"marker\": {\"colorbar\": {\"outlinewidth\": 0, \"ticks\": \"\"}}, \"type\": \"scatter\"}], \"scatter3d\": [{\"line\": {\"colorbar\": {\"outlinewidth\": 0, \"ticks\": \"\"}}, \"marker\": {\"colorbar\": {\"outlinewidth\": 0, \"ticks\": \"\"}}, \"type\": \"scatter3d\"}], \"scattercarpet\": [{\"marker\": {\"colorbar\": {\"outlinewidth\": 0, \"ticks\": \"\"}}, \"type\": \"scattercarpet\"}], \"scattergeo\": [{\"marker\": {\"colorbar\": {\"outlinewidth\": 0, \"ticks\": \"\"}}, \"type\": \"scattergeo\"}], \"scattergl\": [{\"marker\": {\"colorbar\": {\"outlinewidth\": 0, \"ticks\": \"\"}}, \"type\": \"scattergl\"}], \"scattermapbox\": [{\"marker\": {\"colorbar\": {\"outlinewidth\": 0, \"ticks\": \"\"}}, \"type\": \"scattermapbox\"}], \"scatterpolar\": [{\"marker\": {\"colorbar\": {\"outlinewidth\": 0, \"ticks\": \"\"}}, \"type\": \"scatterpolar\"}], \"scatterpolargl\": [{\"marker\": {\"colorbar\": {\"outlinewidth\": 0, \"ticks\": \"\"}}, \"type\": \"scatterpolargl\"}], \"scatterternary\": [{\"marker\": {\"colorbar\": {\"outlinewidth\": 0, \"ticks\": \"\"}}, \"type\": \"scatterternary\"}], \"surface\": [{\"colorbar\": {\"outlinewidth\": 0, \"ticks\": \"\"}, \"colorscale\": [[0.0, \"#0d0887\"], [0.1111111111111111, \"#46039f\"], [0.2222222222222222, \"#7201a8\"], [0.3333333333333333, \"#9c179e\"], [0.4444444444444444, \"#bd3786\"], [0.5555555555555556, \"#d8576b\"], [0.6666666666666666, \"#ed7953\"], [0.7777777777777778, \"#fb9f3a\"], [0.8888888888888888, \"#fdca26\"], [1.0, \"#f0f921\"]], \"type\": \"surface\"}], \"table\": [{\"cells\": {\"fill\": {\"color\": \"#EBF0F8\"}, \"line\": {\"color\": \"white\"}}, \"header\": {\"fill\": {\"color\": \"#C8D4E3\"}, \"line\": {\"color\": \"white\"}}, \"type\": \"table\"}]}, \"layout\": {\"annotationdefaults\": {\"arrowcolor\": \"#2a3f5f\", \"arrowhead\": 0, \"arrowwidth\": 1}, \"autotypenumbers\": \"strict\", \"coloraxis\": {\"colorbar\": {\"outlinewidth\": 0, \"ticks\": \"\"}}, \"colorscale\": {\"diverging\": [[0, \"#8e0152\"], [0.1, \"#c51b7d\"], [0.2, \"#de77ae\"], [0.3, \"#f1b6da\"], [0.4, \"#fde0ef\"], [0.5, \"#f7f7f7\"], [0.6, \"#e6f5d0\"], [0.7, \"#b8e186\"], [0.8, \"#7fbc41\"], [0.9, \"#4d9221\"], [1, \"#276419\"]], \"sequential\": [[0.0, \"#0d0887\"], [0.1111111111111111, \"#46039f\"], [0.2222222222222222, \"#7201a8\"], [0.3333333333333333, \"#9c179e\"], [0.4444444444444444, \"#bd3786\"], [0.5555555555555556, \"#d8576b\"], [0.6666666666666666, \"#ed7953\"], [0.7777777777777778, \"#fb9f3a\"], [0.8888888888888888, \"#fdca26\"], [1.0, \"#f0f921\"]], \"sequentialminus\": [[0.0, \"#0d0887\"], [0.1111111111111111, \"#46039f\"], [0.2222222222222222, \"#7201a8\"], [0.3333333333333333, \"#9c179e\"], [0.4444444444444444, \"#bd3786\"], [0.5555555555555556, \"#d8576b\"], [0.6666666666666666, \"#ed7953\"], [0.7777777777777778, \"#fb9f3a\"], [0.8888888888888888, \"#fdca26\"], [1.0, \"#f0f921\"]]}, \"colorway\": [\"#636efa\", \"#EF553B\", \"#00cc96\", \"#ab63fa\", \"#FFA15A\", \"#19d3f3\", \"#FF6692\", \"#B6E880\", \"#FF97FF\", \"#FECB52\"], \"font\": {\"color\": \"#2a3f5f\"}, \"geo\": {\"bgcolor\": \"white\", \"lakecolor\": \"white\", \"landcolor\": \"#E5ECF6\", \"showlakes\": true, \"showland\": true, \"subunitcolor\": \"white\"}, \"hoverlabel\": {\"align\": \"left\"}, \"hovermode\": \"closest\", \"mapbox\": {\"style\": \"light\"}, \"paper_bgcolor\": \"white\", \"plot_bgcolor\": \"#E5ECF6\", \"polar\": {\"angularaxis\": {\"gridcolor\": \"white\", \"linecolor\": \"white\", \"ticks\": \"\"}, \"bgcolor\": \"#E5ECF6\", \"radialaxis\": {\"gridcolor\": \"white\", \"linecolor\": \"white\", \"ticks\": \"\"}}, \"scene\": {\"xaxis\": {\"backgroundcolor\": \"#E5ECF6\", \"gridcolor\": \"white\", \"gridwidth\": 2, \"linecolor\": \"white\", \"showbackground\": true, \"ticks\": \"\", \"zerolinecolor\": \"white\"}, \"yaxis\": {\"backgroundcolor\": \"#E5ECF6\", \"gridcolor\": \"white\", \"gridwidth\": 2, \"linecolor\": \"white\", \"showbackground\": true, \"ticks\": \"\", \"zerolinecolor\": \"white\"}, \"zaxis\": {\"backgroundcolor\": \"#E5ECF6\", \"gridcolor\": \"white\", \"gridwidth\": 2, \"linecolor\": \"white\", \"showbackground\": true, \"ticks\": \"\", \"zerolinecolor\": \"white\"}}, \"shapedefaults\": {\"line\": {\"color\": \"#2a3f5f\"}}, \"ternary\": {\"aaxis\": {\"gridcolor\": \"white\", \"linecolor\": \"white\", \"ticks\": \"\"}, \"baxis\": {\"gridcolor\": \"white\", \"linecolor\": \"white\", \"ticks\": \"\"}, \"bgcolor\": \"#E5ECF6\", \"caxis\": {\"gridcolor\": \"white\", \"linecolor\": \"white\", \"ticks\": \"\"}}, \"title\": {\"x\": 0.05}, \"xaxis\": {\"automargin\": true, \"gridcolor\": \"white\", \"linecolor\": \"white\", \"ticks\": \"\", \"title\": {\"standoff\": 15}, \"zerolinecolor\": \"white\", \"zerolinewidth\": 2}, \"yaxis\": {\"automargin\": true, \"gridcolor\": \"white\", \"linecolor\": \"white\", \"ticks\": \"\", \"title\": {\"standoff\": 15}, \"zerolinecolor\": \"white\", \"zerolinewidth\": 2}}}, \"xaxis\": {\"anchor\": \"y\", \"domain\": [0.0, 0.103125], \"showticklabels\": false}, \"xaxis2\": {\"anchor\": \"y2\", \"domain\": [0.128125, 0.23124999999999998], \"showticklabels\": false}, \"xaxis3\": {\"anchor\": \"y3\", \"domain\": [0.25625, 0.359375], \"showticklabels\": false}, \"xaxis4\": {\"anchor\": \"y4\", \"domain\": [0.38437499999999997, 0.48749999999999993], \"showticklabels\": false}, \"xaxis5\": {\"anchor\": \"y5\", \"domain\": [0.5125, 0.615625], \"showticklabels\": false}, \"xaxis6\": {\"anchor\": \"y6\", \"domain\": [0.640625, 0.74375], \"showticklabels\": false}, \"xaxis7\": {\"anchor\": \"y7\", \"domain\": [0.76875, 0.8718750000000001], \"showticklabels\": false}, \"xaxis8\": {\"anchor\": \"y8\", \"domain\": [0.8968750000000001, 1.0], \"showticklabels\": false}, \"yaxis\": {\"anchor\": \"x\", \"domain\": [0.0, 1.0], \"showticklabels\": false}, \"yaxis2\": {\"anchor\": \"x2\", \"domain\": [0.0, 1.0], \"showticklabels\": false}, \"yaxis3\": {\"anchor\": \"x3\", \"domain\": [0.0, 1.0], \"showticklabels\": false}, \"yaxis4\": {\"anchor\": \"x4\", \"domain\": [0.0, 1.0], \"showticklabels\": false}, \"yaxis5\": {\"anchor\": \"x5\", \"domain\": [0.0, 1.0], \"showticklabels\": false}, \"yaxis6\": {\"anchor\": \"x6\", \"domain\": [0.0, 1.0], \"showticklabels\": false}, \"yaxis7\": {\"anchor\": \"x7\", \"domain\": [0.0, 1.0], \"showticklabels\": false}, \"yaxis8\": {\"anchor\": \"x8\", \"domain\": [0.0, 1.0], \"showticklabels\": false}},                        {\"responsive\": true}                    ).then(function(){\n",
       "                            \n",
       "var gd = document.getElementById('81ee9f1d-7c01-4f4e-ba25-a71421ce7f4a');\n",
       "var x = new MutationObserver(function (mutations, observer) {{\n",
       "        var display = window.getComputedStyle(gd).display;\n",
       "        if (!display || display === 'none') {{\n",
       "            console.log([gd, 'removed!']);\n",
       "            Plotly.purge(gd);\n",
       "            observer.disconnect();\n",
       "        }}\n",
       "}});\n",
       "\n",
       "// Listen for the removal of the full notebook cells\n",
       "var notebookContainer = gd.closest('#notebook-container');\n",
       "if (notebookContainer) {{\n",
       "    x.observe(notebookContainer, {childList: true});\n",
       "}}\n",
       "\n",
       "// Listen for the clearing of the current output cell\n",
       "var outputEl = gd.closest('.output');\n",
       "if (outputEl) {{\n",
       "    x.observe(outputEl, {childList: true});\n",
       "}}\n",
       "\n",
       "                        })                };                });            </script>        </div>"
      ]
     },
     "metadata": {},
     "output_type": "display_data"
    }
   ],
   "source": [
    "# Show\n",
    "n = 8\n",
    "fig = make_subplots(rows=1, cols=n)\n",
    "for i in range(n):\n",
    "    fig.add_trace(show_image(data[i, :, :, 0]).data[0], row = 1, col = i+1)\n",
    "fig.update_layout(\n",
    "    height=100,\n",
    "    coloraxis_showscale=False, \n",
    "    margin={\"l\": 0, \"r\": 0, \"t\": 0, \"b\": 0}\n",
    ")\n",
    "fig.update_xaxes(showticklabels=False)\n",
    "fig.update_yaxes(showticklabels=False)"
   ]
  },
  {
   "cell_type": "markdown",
   "metadata": {},
   "source": [
    "# Target preprocessing"
   ]
  },
  {
   "cell_type": "code",
   "execution_count": 23,
   "metadata": {},
   "outputs": [
    {
     "name": "stdout",
     "output_type": "stream",
     "text": [
      "target_A > vocab_size=23 | max_len=20\n",
      "target_B > vocab_size=16 | max_len=267\n",
      "target_C > vocab_size=20 | max_len=139\n"
     ]
    }
   ],
   "source": [
    "# Target shapes\n",
    "dico_targets_shape = {}\n",
    "\n",
    "for name_target in ['target_A', 'target_B', 'target_C']:\n",
    "    df_targets = TargetBMS.targets[name_target]\n",
    "\n",
    "    # Text processing\n",
    "    text = ''.join(df_targets.values)\n",
    "\n",
    "    # Vocab\n",
    "    vocab = [' '] + sorted(set(text))\n",
    "    vocab_size = len(vocab)\n",
    "\n",
    "    # Mapping\n",
    "    char2idx = {u:i for i, u in enumerate(vocab)}\n",
    "    idx2char = np.array(vocab)\n",
    "\n",
    "    # Max length\n",
    "    max_len = max([len(x) for x in df_targets])\n",
    "    \n",
    "    print(f\"{name_target} > vocab_size={vocab_size} | max_len={max_len}\")\n",
    "    \n",
    "    dico_targets_shape[name_target] = {'vocab_size':vocab_size, 'max_len':max_len, 'idx2char':idx2char, 'char2idx':char2idx}"
   ]
  },
  {
   "cell_type": "code",
   "execution_count": null,
   "metadata": {},
   "outputs": [
    {
     "name": "stdout",
     "output_type": "stream",
     "text": [
      "train: 7640 / validation: 1910\n",
      "Model: \"sequential_1\"\n",
      "_________________________________________________________________\n",
      "Layer (type)                 Output Shape              Param #   \n",
      "=================================================================\n",
      "conv2d_2 (Conv2D)            (None, 28, 28, 32)        832       \n",
      "_________________________________________________________________\n",
      "max_pooling2d_2 (MaxPooling2 (None, 14, 14, 32)        0         \n",
      "_________________________________________________________________\n",
      "conv2d_3 (Conv2D)            (None, 10, 10, 64)        51264     \n",
      "_________________________________________________________________\n",
      "max_pooling2d_3 (MaxPooling2 (None, 5, 5, 64)          0         \n",
      "_________________________________________________________________\n",
      "flatten_1 (Flatten)          (None, 1600)              0         \n",
      "_________________________________________________________________\n",
      "repeat_vector_1 (RepeatVecto (None, 20, 1600)          0         \n",
      "_________________________________________________________________\n",
      "lstm_1 (LSTM)                (None, 20, 8)             51488     \n",
      "_________________________________________________________________\n",
      "time_distributed_1 (TimeDist (None, 20, 23)            207       \n",
      "=================================================================\n",
      "Total params: 103,791\n",
      "Trainable params: 103,791\n",
      "Non-trainable params: 0\n",
      "_________________________________________________________________\n",
      "Epoch 1/10\n",
      "478/478 [==============================] - 16s 29ms/step - loss: 2.2657 - val_loss: 1.7249\n",
      "\n",
      "Epoch 00001: val_loss improved from inf to 1.72490, saving model to outputs\\BMS_predictive_end_to_end_target_A.h5\n",
      "Epoch 2/10\n",
      "478/478 [==============================] - 13s 28ms/step - loss: 1.6544 - val_loss: 1.4921\n",
      "\n",
      "Epoch 00002: val_loss improved from 1.72490 to 1.49211, saving model to outputs\\BMS_predictive_end_to_end_target_A.h5\n",
      "Epoch 3/10\n",
      "478/478 [==============================] - 14s 29ms/step - loss: 1.4314 - val_loss: 1.3169\n",
      "\n",
      "Epoch 00003: val_loss improved from 1.49211 to 1.31688, saving model to outputs\\BMS_predictive_end_to_end_target_A.h5\n",
      "Epoch 4/10\n",
      "478/478 [==============================] - 16s 32ms/step - loss: 1.2905 - val_loss: 1.2343\n",
      "\n",
      "Epoch 00004: val_loss improved from 1.31688 to 1.23428, saving model to outputs\\BMS_predictive_end_to_end_target_A.h5\n",
      "Epoch 5/10\n",
      "478/478 [==============================] - 15s 31ms/step - loss: 1.2142 - val_loss: 1.1702\n",
      "\n",
      "Epoch 00005: val_loss improved from 1.23428 to 1.17021, saving model to outputs\\BMS_predictive_end_to_end_target_A.h5\n",
      "Epoch 6/10\n",
      "478/478 [==============================] - 16s 34ms/step - loss: 1.1617 - val_loss: 1.1301\n",
      "\n",
      "Epoch 00006: val_loss improved from 1.17021 to 1.13008, saving model to outputs\\BMS_predictive_end_to_end_target_A.h5\n",
      "Epoch 7/10\n",
      "478/478 [==============================] - 16s 32ms/step - loss: 1.1091 - val_loss: 1.0922\n",
      "\n",
      "Epoch 00007: val_loss improved from 1.13008 to 1.09220, saving model to outputs\\BMS_predictive_end_to_end_target_A.h5\n",
      "Epoch 8/10\n",
      "478/478 [==============================] - 15s 32ms/step - loss: 1.0599 - val_loss: 1.0408\n",
      "\n",
      "Epoch 00008: val_loss improved from 1.09220 to 1.04084, saving model to outputs\\BMS_predictive_end_to_end_target_A.h5\n",
      "Epoch 9/10\n",
      "478/478 [==============================] - 14s 29ms/step - loss: 1.0053 - val_loss: 1.0056\n",
      "\n",
      "Epoch 00009: val_loss improved from 1.04084 to 1.00558, saving model to outputs\\BMS_predictive_end_to_end_target_A.h5\n",
      "Epoch 10/10\n",
      "478/478 [==============================] - 15s 31ms/step - loss: 0.9578 - val_loss: 1.0088\n",
      "\n",
      "Epoch 00010: val_loss did not improve from 1.00558\n",
      "train: 7640 / validation: 1910\n",
      "Model: \"sequential_2\"\n",
      "_________________________________________________________________\n",
      "Layer (type)                 Output Shape              Param #   \n",
      "=================================================================\n",
      "conv2d_4 (Conv2D)            (None, 28, 28, 32)        832       \n",
      "_________________________________________________________________\n",
      "max_pooling2d_4 (MaxPooling2 (None, 14, 14, 32)        0         \n",
      "_________________________________________________________________\n",
      "conv2d_5 (Conv2D)            (None, 10, 10, 64)        51264     \n",
      "_________________________________________________________________\n",
      "max_pooling2d_5 (MaxPooling2 (None, 5, 5, 64)          0         \n",
      "_________________________________________________________________\n",
      "flatten_2 (Flatten)          (None, 1600)              0         \n",
      "_________________________________________________________________\n",
      "repeat_vector_2 (RepeatVecto (None, 267, 1600)         0         \n",
      "_________________________________________________________________\n",
      "lstm_2 (LSTM)                (None, 267, 8)            51488     \n",
      "_________________________________________________________________\n",
      "time_distributed_2 (TimeDist (None, 267, 16)           144       \n",
      "=================================================================\n",
      "Total params: 103,728\n",
      "Trainable params: 103,728\n",
      "Non-trainable params: 0\n",
      "_________________________________________________________________\n",
      "Epoch 1/10\n",
      "478/478 [==============================] - 93s 192ms/step - loss: 1.5260 - val_loss: 0.9395\n",
      "\n",
      "Epoch 00001: val_loss improved from inf to 0.93951, saving model to outputs\\BMS_predictive_end_to_end_target_B.h5\n",
      "Epoch 2/10\n",
      "478/478 [==============================] - 91s 190ms/step - loss: 0.9074 - val_loss: 0.8499\n",
      "\n",
      "Epoch 00002: val_loss improved from 0.93951 to 0.84989, saving model to outputs\\BMS_predictive_end_to_end_target_B.h5\n",
      "Epoch 3/10\n",
      "478/478 [==============================] - 90s 189ms/step - loss: 0.8502 - val_loss: 0.8291\n",
      "\n",
      "Epoch 00003: val_loss improved from 0.84989 to 0.82909, saving model to outputs\\BMS_predictive_end_to_end_target_B.h5\n",
      "Epoch 4/10\n",
      "478/478 [==============================] - 84s 175ms/step - loss: 0.8319 - val_loss: 0.8232\n",
      "\n",
      "Epoch 00004: val_loss improved from 0.82909 to 0.82320, saving model to outputs\\BMS_predictive_end_to_end_target_B.h5\n",
      "Epoch 5/10\n",
      "136/478 [=======>......................] - ETA: 57s - loss: 0.8209"
     ]
    }
   ],
   "source": [
    "# TRAININ #\n",
    "for name_target in ['target_A', 'target_B', 'target_C']:\n",
    "    \n",
    "    # Target parameters\n",
    "    df_targets = TargetBMS.targets[name_target]\n",
    "    max_len = dico_targets_shape[name_target]['max_len']\n",
    "    vocab_size = dico_targets_shape[name_target]['vocab_size']\n",
    "    char2idx = dico_targets_shape[name_target]['char2idx']\n",
    "    idx2char = dico_targets_shape[name_target]['idx2char']\n",
    "\n",
    "    # Text targets\n",
    "    targets = df_targets[list_id].values\n",
    "    targets = [[char2idx[x] for x in target] for target in targets]\n",
    "    targets = pad_sequences(targets, padding='post', maxlen=max_len)\n",
    "\n",
    "    # Train predictive model\n",
    "    predictive_network = get_predictive_network(max_len, vocab_size)\n",
    "\n",
    "    # Data\n",
    "    data = data\n",
    "\n",
    "    # Train\n",
    "    epochs=10\n",
    "    batch_size=16\n",
    "    patience=10\n",
    "    lr=1e-3\n",
    "    name=f'BMS_predictive_end_to_end_{name_target}'\n",
    "\n",
    "    # Split train/test\n",
    "    data, targets = shuffle(data, targets, random_state=0)\n",
    "\n",
    "    TRAIN_BUF = int(data.shape[0]*0.8)\n",
    "    data_train = data[:TRAIN_BUF]\n",
    "    data_validation = data[TRAIN_BUF:]\n",
    "\n",
    "    targets_train = targets[:TRAIN_BUF]\n",
    "    targets_validation = targets[TRAIN_BUF:]\n",
    "\n",
    "    print(f\"train: {len(data_train)} / validation: {len(data_validation)}\")\n",
    "\n",
    "    # Callbacks and compil\n",
    "    es = EarlyStopping(monitor='val_loss', mode='min', verbose=1, patience=patience)\n",
    "    mc = ModelCheckpoint(f'outputs/{name}.h5', monitor='val_loss', mode='min', verbose=1, save_best_only=True)\n",
    "\n",
    "    optimizer = Adam(learning_rate=lr)\n",
    "    predictive_network.build(input_shape=(None, new_shape[0], new_shape[1], 1))\n",
    "    predictive_network.compile(optimizer=optimizer, loss=loss_function)\n",
    "    predictive_network.summary()\n",
    "\n",
    "    history = predictive_network.fit(\n",
    "        data_train, \n",
    "        targets_train, \n",
    "        validation_data = (data_validation, targets_validation), \n",
    "        epochs=epochs, \n",
    "        batch_size=batch_size, \n",
    "        verbose=1,\n",
    "        callbacks=[es, mc]\n",
    "    )"
   ]
  },
  {
   "cell_type": "code",
   "execution_count": null,
   "metadata": {},
   "outputs": [],
   "source": [
    "# # Train Score \n",
    "# y_true=[''.join([idx2char[y] for y in yy]) for yy in targets_train[0:batch_size]]\n",
    "# y_predict=get_text_from_predict(predictive_network, data_train[0:batch_size], idx2char)\n",
    "# print(f\"\\t> Train Score: {score(y_true, y_predict)}\")\n",
    "# [f\"{x} -> {y}\" for x,y in zip(y_true[0:8], y_predict[0:8])]\n",
    "\n",
    "# # Validation score \n",
    "# y_true=[''.join([idx2char[y] for y in yy]) for yy in targets_validation[0:batch_size]]\n",
    "# y_predict=get_text_from_predict(predictive_network, data_validation[0:batch_size], idx2char)\n",
    "# print(f\"\\t> Validation Score: {score(y_true, y_predict)}\")\n",
    "# [f\"{x} -> {y}\" for x,y in zip(y_true[0:8], y_predict[0:8])]"
   ]
  },
  {
   "cell_type": "markdown",
   "metadata": {},
   "source": [
    "# Predict"
   ]
  },
  {
   "cell_type": "code",
   "execution_count": null,
   "metadata": {},
   "outputs": [],
   "source": [
    "# Images data \n",
    "dataset = 'test'\n",
    "i = folders[0]\n",
    "j = folders[0]\n",
    "k = folders[0]\n",
    "\n",
    "list_data = []\n",
    "\n",
    "for k in tqdm(folders):\n",
    "\n",
    "    path = f'bms-molecular-translation/{dataset}/{i}/{j}/{k}/'\n",
    "\n",
    "    # Files\n",
    "    list_names = os.listdir(path)\n",
    "    list_path = [path]*len(list_names)\n",
    "\n",
    "    # Image data\n",
    "    ImageSet = ImageSetObject(list_names, list_path)\n",
    "    ImageSet.prepare_data(new_shape, filtering=False, adjust=False)\n",
    "    data = ImageSet.X\n",
    "    list_data.append(data)\n",
    "\n",
    "    # Select data\n",
    "    data = list_data[0]\n",
    "\n",
    "    output = ['InChI=1S']*len(data)\n",
    "    for name_target in ['target_A', 'target_B', 'target_C']:\n",
    "\n",
    "        name=f'BMS_predictive_end_to_end_{name_target}'\n",
    "\n",
    "        max_len = dico_targets_shape[name_target]['max_len']\n",
    "        vocab_size = dico_targets_shape[name_target]['vocab_size']\n",
    "        idx2char = dico_targets_shape[name_target]['idx2char']\n",
    "\n",
    "        predictive_network = get_predictive_network(max_len, vocab_size)\n",
    "        predictive_network.build(input_shape=(None, new_shape[0], new_shape[1], 1))\n",
    "        predictive_network.load_weights(f\"outputs/{name}.h5\")\n",
    "\n",
    "        y = get_text_from_predict(predictive_network, data, idx2char)\n",
    "\n",
    "        output = [o + f'/{y[i]}' if y[i] != max_len*' ' else o for i,o in enumerate(output)]\n",
    "        output = [o.replace(' ', '') for o in output]\n",
    "\n",
    "# Sample_submission\n",
    "sample_submission = pd.read_csv(\"outputs/submission.csv\")\n",
    "sample_submission = sample_submission.set_index('image_id')\n",
    "\n",
    "# Prepare df\n",
    "list_id = ImageSet.image_ids\n",
    "df_output = pd.DataFrame([list_id, output], index=['image_id', 'InChI']).transpose().set_index('image_id')\n",
    "sample_submission.loc[df_output.index,'InChI'] = df_output['InChI']\n",
    "\n",
    "# Export\n",
    "sample_submission.reset_index().to_csv('outputs/submission.csv', index=False)"
   ]
  },
  {
   "cell_type": "code",
   "execution_count": null,
   "metadata": {},
   "outputs": [],
   "source": []
  }
 ],
 "metadata": {
  "kernelspec": {
   "display_name": "Python 3",
   "language": "python",
   "name": "python3"
  },
  "language_info": {
   "codemirror_mode": {
    "name": "ipython",
    "version": 3
   },
   "file_extension": ".py",
   "mimetype": "text/x-python",
   "name": "python",
   "nbconvert_exporter": "python",
   "pygments_lexer": "ipython3",
   "version": "3.7.9"
  }
 },
 "nbformat": 4,
 "nbformat_minor": 2
}
